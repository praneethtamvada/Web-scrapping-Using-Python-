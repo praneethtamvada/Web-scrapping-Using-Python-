{
 "cells": [
  {
   "cell_type": "code",
   "execution_count": 1,
   "metadata": {},
   "outputs": [],
   "source": [
    "from lxml import html\n",
    "import requests"
   ]
  },
  {
   "cell_type": "code",
   "execution_count": 2,
   "metadata": {},
   "outputs": [],
   "source": [
    "import urllib.request as urllib2"
   ]
  },
  {
   "cell_type": "code",
   "execution_count": 3,
   "metadata": {},
   "outputs": [],
   "source": [
    "from bs4 import BeautifulSoup"
   ]
  },
  {
   "cell_type": "code",
   "execution_count": 4,
   "metadata": {},
   "outputs": [],
   "source": [
    "wiki = \"https://en.wikipedia.org/wiki/List_of_countries_by_military_expenditures\""
   ]
  },
  {
   "cell_type": "code",
   "execution_count": 5,
   "metadata": {},
   "outputs": [],
   "source": [
    "page = urllib2.urlopen(wiki)"
   ]
  },
  {
   "cell_type": "code",
   "execution_count": 6,
   "metadata": {},
   "outputs": [
    {
     "name": "stderr",
     "output_type": "stream",
     "text": [
      "C:\\Users\\Praneeth Tamvada\\Anaconda3\\lib\\site-packages\\bs4\\__init__.py:181: UserWarning: No parser was explicitly specified, so I'm using the best available HTML parser for this system (\"lxml\"). This usually isn't a problem, but if you run this code on another system, or in a different virtual environment, it may use a different parser and behave differently.\n",
      "\n",
      "The code that caused this warning is on line 193 of the file C:\\Users\\Praneeth Tamvada\\Anaconda3\\lib\\runpy.py. To get rid of this warning, change code that looks like this:\n",
      "\n",
      " BeautifulSoup(YOUR_MARKUP})\n",
      "\n",
      "to this:\n",
      "\n",
      " BeautifulSoup(YOUR_MARKUP, \"lxml\")\n",
      "\n",
      "  markup_type=markup_type))\n"
     ]
    }
   ],
   "source": [
    "soup = BeautifulSoup(page)"
   ]
  },
  {
   "cell_type": "code",
   "execution_count": 7,
   "metadata": {},
   "outputs": [
    {
     "data": {
      "text/plain": [
       "<title>List of countries by military expenditures - Wikipedia</title>"
      ]
     },
     "execution_count": 7,
     "metadata": {},
     "output_type": "execute_result"
    }
   ],
   "source": [
    "soup.title"
   ]
  },
  {
   "cell_type": "code",
   "execution_count": 8,
   "metadata": {},
   "outputs": [
    {
     "data": {
      "text/plain": [
       "'List of countries by military expenditures - Wikipedia'"
      ]
     },
     "execution_count": 8,
     "metadata": {},
     "output_type": "execute_result"
    }
   ],
   "source": [
    "soup.title.string"
   ]
  },
  {
   "cell_type": "code",
   "execution_count": 9,
   "metadata": {},
   "outputs": [
    {
     "data": {
      "text/plain": [
       "<a id=\"top\"></a>"
      ]
     },
     "execution_count": 9,
     "metadata": {},
     "output_type": "execute_result"
    }
   ],
   "source": [
    "soup.a "
   ]
  },
  {
   "cell_type": "code",
   "execution_count": 10,
   "metadata": {},
   "outputs": [
    {
     "data": {
      "text/plain": [
       "[<a id=\"top\"></a>,\n",
       " <a class=\"mw-jump-link\" href=\"#mw-head\">Jump to navigation</a>,\n",
       " <a class=\"mw-jump-link\" href=\"#p-search\">Jump to search</a>,\n",
       " <a class=\"image\" href=\"/wiki/File:Countries_by_Military_expenditures_(%25_of_GDP)_in_2014_v2.svg\"><img alt=\"\" class=\"thumbimage\" data-file-height=\"288\" data-file-width=\"512\" height=\"197\" src=\"//upload.wikimedia.org/wikipedia/commons/thumb/d/d0/Countries_by_Military_expenditures_%28%25_of_GDP%29_in_2014_v2.svg/350px-Countries_by_Military_expenditures_%28%25_of_GDP%29_in_2014_v2.svg.png\" srcset=\"//upload.wikimedia.org/wikipedia/commons/thumb/d/d0/Countries_by_Military_expenditures_%28%25_of_GDP%29_in_2014_v2.svg/525px-Countries_by_Military_expenditures_%28%25_of_GDP%29_in_2014_v2.svg.png 1.5x, //upload.wikimedia.org/wikipedia/commons/thumb/d/d0/Countries_by_Military_expenditures_%28%25_of_GDP%29_in_2014_v2.svg/700px-Countries_by_Military_expenditures_%28%25_of_GDP%29_in_2014_v2.svg.png 2x\" width=\"350\"/></a>,\n",
       " <a class=\"internal\" href=\"/wiki/File:Countries_by_Military_expenditures_(%25_of_GDP)_in_2014_v2.svg\" title=\"Enlarge\"></a>,\n",
       " <a class=\"image\" href=\"/wiki/File:2014_militrary_expenditures_absolute.svg\"><img alt=\"\" class=\"thumbimage\" data-file-height=\"288\" data-file-width=\"512\" height=\"197\" src=\"//upload.wikimedia.org/wikipedia/commons/thumb/7/76/2014_militrary_expenditures_absolute.svg/350px-2014_militrary_expenditures_absolute.svg.png\" srcset=\"//upload.wikimedia.org/wikipedia/commons/thumb/7/76/2014_militrary_expenditures_absolute.svg/525px-2014_militrary_expenditures_absolute.svg.png 1.5x, //upload.wikimedia.org/wikipedia/commons/thumb/7/76/2014_militrary_expenditures_absolute.svg/700px-2014_militrary_expenditures_absolute.svg.png 2x\" width=\"350\"/></a>,\n",
       " <a class=\"internal\" href=\"/wiki/File:2014_militrary_expenditures_absolute.svg\" title=\"Enlarge\"></a>,\n",
       " <a href=\"/wiki/Military_budget\" title=\"Military budget\">Military expenditure</a>,\n",
       " <a href=\"/wiki/United_States_dollar\" title=\"United States dollar\">United States dollars</a>,\n",
       " <a href=\"#cite_note-SIPRI-1\">[1]</a>,\n",
       " <a href=\"/wiki/Exchange_rate\" title=\"Exchange rate\">exchange rates</a>,\n",
       " <a href=\"/wiki/Stockholm_International_Peace_Research_Institute\" title=\"Stockholm International Peace Research Institute\">Stockholm International Peace Research Institute</a>,\n",
       " <a href=\"#cite_note-SIPRI-1\">[1]</a>,\n",
       " <a href=\"/wiki/International_Institute_for_Strategic_Studies\" title=\"International Institute for Strategic Studies\">International Institute for Strategic Studies</a>,\n",
       " <a href=\"#cite_note-IISS-2\">[2]</a>,\n",
       " <a href=\"#List\"><span class=\"tocnumber\">1</span> <span class=\"toctext\">List</span></a>,\n",
       " <a href=\"#Notes\"><span class=\"tocnumber\">2</span> <span class=\"toctext\">Notes</span></a>,\n",
       " <a href=\"#See_also\"><span class=\"tocnumber\">3</span> <span class=\"toctext\">See also</span></a>,\n",
       " <a href=\"#References\"><span class=\"tocnumber\">4</span> <span class=\"toctext\">References</span></a>,\n",
       " <a href=\"#External_links\"><span class=\"tocnumber\">5</span> <span class=\"toctext\">External links</span></a>,\n",
       " <a href=\"/w/index.php?title=List_of_countries_by_military_expenditures&amp;action=edit&amp;section=1\" title=\"Edit section: List\">edit</a>,\n",
       " <a href=\"/wiki/Stockholm_International_Peace_Research_Institute\" title=\"Stockholm International Peace Research Institute\">Stockholm International Peace Research Institute</a>,\n",
       " <a href=\"#cite_note-SIPRI-1\">[1]</a>,\n",
       " <a href=\"#cite_note-3\">[3]</a>,\n",
       " <a href=\"/wiki/International_Institute_for_Strategic_Studies\" title=\"International Institute for Strategic Studies\">International Institute for Strategic Studies</a>,\n",
       " <a href=\"#cite_note-4\">[4]</a>,\n",
       " <a href=\"/wiki/List_of_countries_by_GDP_(nominal)\" title=\"List of countries by GDP (nominal)\">GDP</a>,\n",
       " <a href=\"/wiki/United_States\" title=\"United States\"><img alt=\"United States\" class=\"thumbborder\" data-file-height=\"650\" data-file-width=\"1235\" height=\"12\" src=\"//upload.wikimedia.org/wikipedia/en/thumb/a/a4/Flag_of_the_United_States.svg/23px-Flag_of_the_United_States.svg.png\" srcset=\"//upload.wikimedia.org/wikipedia/en/thumb/a/a4/Flag_of_the_United_States.svg/35px-Flag_of_the_United_States.svg.png 1.5x, //upload.wikimedia.org/wikipedia/en/thumb/a/a4/Flag_of_the_United_States.svg/46px-Flag_of_the_United_States.svg.png 2x\" width=\"23\"/></a>,\n",
       " <a href=\"/wiki/United_States_Armed_Forces\" title=\"United States Armed Forces\">United States</a>,\n",
       " <a href=\"/wiki/China\" title=\"China\"><img alt=\"China\" class=\"thumbborder\" data-file-height=\"600\" data-file-width=\"900\" height=\"15\" src=\"//upload.wikimedia.org/wikipedia/commons/thumb/f/fa/Flag_of_the_People%27s_Republic_of_China.svg/23px-Flag_of_the_People%27s_Republic_of_China.svg.png\" srcset=\"//upload.wikimedia.org/wikipedia/commons/thumb/f/fa/Flag_of_the_People%27s_Republic_of_China.svg/35px-Flag_of_the_People%27s_Republic_of_China.svg.png 1.5x, //upload.wikimedia.org/wikipedia/commons/thumb/f/fa/Flag_of_the_People%27s_Republic_of_China.svg/45px-Flag_of_the_People%27s_Republic_of_China.svg.png 2x\" width=\"23\"/></a>,\n",
       " <a href=\"/wiki/People%27s_Liberation_Army\" title=\"People's Liberation Army\">China</a>,\n",
       " <a href=\"#cite_note-x-5\">[a]</a>,\n",
       " <a href=\"/wiki/Saudi_Arabia\" title=\"Saudi Arabia\"><img alt=\"Saudi Arabia\" class=\"thumbborder\" data-file-height=\"500\" data-file-width=\"750\" height=\"15\" src=\"//upload.wikimedia.org/wikipedia/commons/thumb/0/0d/Flag_of_Saudi_Arabia.svg/23px-Flag_of_Saudi_Arabia.svg.png\" srcset=\"//upload.wikimedia.org/wikipedia/commons/thumb/0/0d/Flag_of_Saudi_Arabia.svg/35px-Flag_of_Saudi_Arabia.svg.png 1.5x, //upload.wikimedia.org/wikipedia/commons/thumb/0/0d/Flag_of_Saudi_Arabia.svg/45px-Flag_of_Saudi_Arabia.svg.png 2x\" width=\"23\"/></a>,\n",
       " <a href=\"/wiki/Armed_Forces_of_Saudi_Arabia\" title=\"Armed Forces of Saudi Arabia\">Saudi Arabia</a>,\n",
       " <a href=\"#cite_note-x-5\">[a]</a>,\n",
       " <a href=\"#cite_note-y-6\">[b]</a>,\n",
       " <a href=\"/wiki/Russia\" title=\"Russia\"><img alt=\"Russia\" class=\"thumbborder\" data-file-height=\"600\" data-file-width=\"900\" height=\"15\" src=\"//upload.wikimedia.org/wikipedia/en/thumb/f/f3/Flag_of_Russia.svg/23px-Flag_of_Russia.svg.png\" srcset=\"//upload.wikimedia.org/wikipedia/en/thumb/f/f3/Flag_of_Russia.svg/35px-Flag_of_Russia.svg.png 1.5x, //upload.wikimedia.org/wikipedia/en/thumb/f/f3/Flag_of_Russia.svg/45px-Flag_of_Russia.svg.png 2x\" width=\"23\"/></a>,\n",
       " <a href=\"/wiki/Russian_Armed_Forces\" title=\"Russian Armed Forces\">Russia</a>,\n",
       " <a href=\"/wiki/India\" title=\"India\"><img alt=\"India\" class=\"thumbborder\" data-file-height=\"900\" data-file-width=\"1350\" height=\"15\" src=\"//upload.wikimedia.org/wikipedia/en/thumb/4/41/Flag_of_India.svg/23px-Flag_of_India.svg.png\" srcset=\"//upload.wikimedia.org/wikipedia/en/thumb/4/41/Flag_of_India.svg/35px-Flag_of_India.svg.png 1.5x, //upload.wikimedia.org/wikipedia/en/thumb/4/41/Flag_of_India.svg/45px-Flag_of_India.svg.png 2x\" width=\"23\"/></a>,\n",
       " <a href=\"/wiki/Indian_Armed_Forces\" title=\"Indian Armed Forces\">India</a>,\n",
       " <a href=\"/wiki/France\" title=\"France\"><img alt=\"France\" class=\"thumbborder\" data-file-height=\"600\" data-file-width=\"900\" height=\"15\" src=\"//upload.wikimedia.org/wikipedia/en/thumb/c/c3/Flag_of_France.svg/23px-Flag_of_France.svg.png\" srcset=\"//upload.wikimedia.org/wikipedia/en/thumb/c/c3/Flag_of_France.svg/35px-Flag_of_France.svg.png 1.5x, //upload.wikimedia.org/wikipedia/en/thumb/c/c3/Flag_of_France.svg/45px-Flag_of_France.svg.png 2x\" width=\"23\"/></a>,\n",
       " <a href=\"/wiki/French_Armed_Forces\" title=\"French Armed Forces\">France</a>,\n",
       " <a href=\"/wiki/United_Kingdom\" title=\"United Kingdom\"><img alt=\"United Kingdom\" class=\"thumbborder\" data-file-height=\"600\" data-file-width=\"1200\" height=\"12\" src=\"//upload.wikimedia.org/wikipedia/en/thumb/a/ae/Flag_of_the_United_Kingdom.svg/23px-Flag_of_the_United_Kingdom.svg.png\" srcset=\"//upload.wikimedia.org/wikipedia/en/thumb/a/ae/Flag_of_the_United_Kingdom.svg/35px-Flag_of_the_United_Kingdom.svg.png 1.5x, //upload.wikimedia.org/wikipedia/en/thumb/a/ae/Flag_of_the_United_Kingdom.svg/46px-Flag_of_the_United_Kingdom.svg.png 2x\" width=\"23\"/></a>,\n",
       " <a href=\"/wiki/British_Armed_Forces\" title=\"British Armed Forces\">United Kingdom</a>,\n",
       " <a href=\"/wiki/Japan\" title=\"Japan\"><img alt=\"Japan\" class=\"thumbborder\" data-file-height=\"600\" data-file-width=\"900\" height=\"15\" src=\"//upload.wikimedia.org/wikipedia/en/thumb/9/9e/Flag_of_Japan.svg/23px-Flag_of_Japan.svg.png\" srcset=\"//upload.wikimedia.org/wikipedia/en/thumb/9/9e/Flag_of_Japan.svg/35px-Flag_of_Japan.svg.png 1.5x, //upload.wikimedia.org/wikipedia/en/thumb/9/9e/Flag_of_Japan.svg/45px-Flag_of_Japan.svg.png 2x\" width=\"23\"/></a>,\n",
       " <a href=\"/wiki/Japan_Self-Defense_Forces\" title=\"Japan Self-Defense Forces\">Japan</a>,\n",
       " <a href=\"/wiki/Germany\" title=\"Germany\"><img alt=\"Germany\" class=\"thumbborder\" data-file-height=\"600\" data-file-width=\"1000\" height=\"14\" src=\"//upload.wikimedia.org/wikipedia/en/thumb/b/ba/Flag_of_Germany.svg/23px-Flag_of_Germany.svg.png\" srcset=\"//upload.wikimedia.org/wikipedia/en/thumb/b/ba/Flag_of_Germany.svg/35px-Flag_of_Germany.svg.png 1.5x, //upload.wikimedia.org/wikipedia/en/thumb/b/ba/Flag_of_Germany.svg/46px-Flag_of_Germany.svg.png 2x\" width=\"23\"/></a>,\n",
       " <a href=\"/wiki/Bundeswehr\" title=\"Bundeswehr\">Germany</a>,\n",
       " <a href=\"/wiki/South_Korea\" title=\"South Korea\"><img alt=\"South Korea\" class=\"thumbborder\" data-file-height=\"600\" data-file-width=\"900\" height=\"15\" src=\"//upload.wikimedia.org/wikipedia/commons/thumb/0/09/Flag_of_South_Korea.svg/23px-Flag_of_South_Korea.svg.png\" srcset=\"//upload.wikimedia.org/wikipedia/commons/thumb/0/09/Flag_of_South_Korea.svg/35px-Flag_of_South_Korea.svg.png 1.5x, //upload.wikimedia.org/wikipedia/commons/thumb/0/09/Flag_of_South_Korea.svg/45px-Flag_of_South_Korea.svg.png 2x\" width=\"23\"/></a>,\n",
       " <a href=\"/wiki/Republic_of_Korea_Armed_Forces\" title=\"Republic of Korea Armed Forces\">South Korea</a>,\n",
       " <a href=\"/wiki/Brazil\" title=\"Brazil\"><img alt=\"Brazil\" class=\"thumbborder\" data-file-height=\"504\" data-file-width=\"720\" height=\"15\" src=\"//upload.wikimedia.org/wikipedia/en/thumb/0/05/Flag_of_Brazil.svg/22px-Flag_of_Brazil.svg.png\" srcset=\"//upload.wikimedia.org/wikipedia/en/thumb/0/05/Flag_of_Brazil.svg/33px-Flag_of_Brazil.svg.png 1.5x, //upload.wikimedia.org/wikipedia/en/thumb/0/05/Flag_of_Brazil.svg/43px-Flag_of_Brazil.svg.png 2x\" width=\"22\"/></a>,\n",
       " <a href=\"/wiki/Brazilian_Armed_Forces\" title=\"Brazilian Armed Forces\">Brazil</a>,\n",
       " <a href=\"/wiki/Italy\" title=\"Italy\"><img alt=\"Italy\" class=\"thumbborder\" data-file-height=\"1000\" data-file-width=\"1500\" height=\"15\" src=\"//upload.wikimedia.org/wikipedia/en/thumb/0/03/Flag_of_Italy.svg/23px-Flag_of_Italy.svg.png\" srcset=\"//upload.wikimedia.org/wikipedia/en/thumb/0/03/Flag_of_Italy.svg/35px-Flag_of_Italy.svg.png 1.5x, //upload.wikimedia.org/wikipedia/en/thumb/0/03/Flag_of_Italy.svg/45px-Flag_of_Italy.svg.png 2x\" width=\"23\"/></a>,\n",
       " <a href=\"/wiki/Italian_Armed_Forces\" title=\"Italian Armed Forces\">Italy</a>,\n",
       " <a href=\"/wiki/Australia\" title=\"Australia\"><img alt=\"Australia\" class=\"thumbborder\" data-file-height=\"640\" data-file-width=\"1280\" height=\"12\" src=\"//upload.wikimedia.org/wikipedia/en/thumb/b/b9/Flag_of_Australia.svg/23px-Flag_of_Australia.svg.png\" srcset=\"//upload.wikimedia.org/wikipedia/en/thumb/b/b9/Flag_of_Australia.svg/35px-Flag_of_Australia.svg.png 1.5x, //upload.wikimedia.org/wikipedia/en/thumb/b/b9/Flag_of_Australia.svg/46px-Flag_of_Australia.svg.png 2x\" width=\"23\"/></a>,\n",
       " <a href=\"/wiki/Australian_Defence_Force\" title=\"Australian Defence Force\">Australia</a>,\n",
       " <a href=\"/wiki/Canada\" title=\"Canada\"><img alt=\"Canada\" class=\"thumbborder\" data-file-height=\"500\" data-file-width=\"1000\" height=\"12\" src=\"//upload.wikimedia.org/wikipedia/en/thumb/c/cf/Flag_of_Canada.svg/23px-Flag_of_Canada.svg.png\" srcset=\"//upload.wikimedia.org/wikipedia/en/thumb/c/cf/Flag_of_Canada.svg/35px-Flag_of_Canada.svg.png 1.5x, //upload.wikimedia.org/wikipedia/en/thumb/c/cf/Flag_of_Canada.svg/46px-Flag_of_Canada.svg.png 2x\" width=\"23\"/></a>,\n",
       " <a href=\"/wiki/Canadian_Armed_Forces\" title=\"Canadian Armed Forces\">Canada</a>,\n",
       " <a href=\"/wiki/Turkey\" title=\"Turkey\"><img alt=\"Turkey\" class=\"thumbborder\" data-file-height=\"800\" data-file-width=\"1200\" height=\"15\" src=\"//upload.wikimedia.org/wikipedia/commons/thumb/b/b4/Flag_of_Turkey.svg/23px-Flag_of_Turkey.svg.png\" srcset=\"//upload.wikimedia.org/wikipedia/commons/thumb/b/b4/Flag_of_Turkey.svg/35px-Flag_of_Turkey.svg.png 1.5x, //upload.wikimedia.org/wikipedia/commons/thumb/b/b4/Flag_of_Turkey.svg/45px-Flag_of_Turkey.svg.png 2x\" width=\"23\"/></a>,\n",
       " <a href=\"/wiki/Turkish_Armed_Forces\" title=\"Turkish Armed Forces\">Turkey</a>,\n",
       " <a href=\"/wiki/Israel\" title=\"Israel\"><img alt=\"Israel\" class=\"thumbborder\" data-file-height=\"480\" data-file-width=\"660\" height=\"15\" src=\"//upload.wikimedia.org/wikipedia/commons/thumb/d/d4/Flag_of_Israel.svg/21px-Flag_of_Israel.svg.png\" srcset=\"//upload.wikimedia.org/wikipedia/commons/thumb/d/d4/Flag_of_Israel.svg/32px-Flag_of_Israel.svg.png 1.5x, //upload.wikimedia.org/wikipedia/commons/thumb/d/d4/Flag_of_Israel.svg/41px-Flag_of_Israel.svg.png 2x\" width=\"21\"/></a>,\n",
       " <a href=\"/wiki/Israel_Defense_Forces\" title=\"Israel Defense Forces\">Israel</a>,\n",
       " <a href=\"/wiki/Spain\" title=\"Spain\"><img alt=\"Spain\" class=\"thumbborder\" data-file-height=\"500\" data-file-width=\"750\" height=\"15\" src=\"//upload.wikimedia.org/wikipedia/en/thumb/9/9a/Flag_of_Spain.svg/23px-Flag_of_Spain.svg.png\" srcset=\"//upload.wikimedia.org/wikipedia/en/thumb/9/9a/Flag_of_Spain.svg/35px-Flag_of_Spain.svg.png 1.5x, //upload.wikimedia.org/wikipedia/en/thumb/9/9a/Flag_of_Spain.svg/45px-Flag_of_Spain.svg.png 2x\" width=\"23\"/></a>,\n",
       " <a href=\"/wiki/Spanish_Armed_Forces\" title=\"Spanish Armed Forces\">Spain</a>,\n",
       " <a href=\"/wiki/Iran\" title=\"Iran\"><img alt=\"Iran\" class=\"thumbborder\" data-file-height=\"360\" data-file-width=\"630\" height=\"13\" src=\"//upload.wikimedia.org/wikipedia/commons/thumb/c/ca/Flag_of_Iran.svg/23px-Flag_of_Iran.svg.png\" srcset=\"//upload.wikimedia.org/wikipedia/commons/thumb/c/ca/Flag_of_Iran.svg/35px-Flag_of_Iran.svg.png 1.5x, //upload.wikimedia.org/wikipedia/commons/thumb/c/ca/Flag_of_Iran.svg/46px-Flag_of_Iran.svg.png 2x\" width=\"23\"/></a>,\n",
       " <a href=\"/wiki/Armed_Forces_of_the_Islamic_Republic_of_Iran\" title=\"Armed Forces of the Islamic Republic of Iran\">Iran</a>,\n",
       " <a href=\"/wiki/Pakistan\" title=\"Pakistan\"><img alt=\"Pakistan\" class=\"thumbborder\" data-file-height=\"600\" data-file-width=\"900\" height=\"15\" src=\"//upload.wikimedia.org/wikipedia/commons/thumb/3/32/Flag_of_Pakistan.svg/23px-Flag_of_Pakistan.svg.png\" srcset=\"//upload.wikimedia.org/wikipedia/commons/thumb/3/32/Flag_of_Pakistan.svg/35px-Flag_of_Pakistan.svg.png 1.5x, //upload.wikimedia.org/wikipedia/commons/thumb/3/32/Flag_of_Pakistan.svg/45px-Flag_of_Pakistan.svg.png 2x\" width=\"23\"/></a>,\n",
       " <a href=\"/wiki/Pakistan_Armed_Forces\" title=\"Pakistan Armed Forces\">Pakistan</a>,\n",
       " <a href=\"/wiki/Taiwan\" title=\"Taiwan\"><img alt=\"Taiwan\" class=\"thumbborder\" data-file-height=\"600\" data-file-width=\"900\" height=\"15\" src=\"//upload.wikimedia.org/wikipedia/commons/thumb/7/72/Flag_of_the_Republic_of_China.svg/23px-Flag_of_the_Republic_of_China.svg.png\" srcset=\"//upload.wikimedia.org/wikipedia/commons/thumb/7/72/Flag_of_the_Republic_of_China.svg/35px-Flag_of_the_Republic_of_China.svg.png 1.5x, //upload.wikimedia.org/wikipedia/commons/thumb/7/72/Flag_of_the_Republic_of_China.svg/45px-Flag_of_the_Republic_of_China.svg.png 2x\" width=\"23\"/></a>,\n",
       " <a href=\"/wiki/Republic_of_China_Armed_Forces\" title=\"Republic of China Armed Forces\">Taiwan</a>,\n",
       " <a href=\"/wiki/Singapore\" title=\"Singapore\"><img alt=\"Singapore\" class=\"thumbborder\" data-file-height=\"2880\" data-file-width=\"4320\" height=\"15\" src=\"//upload.wikimedia.org/wikipedia/commons/thumb/4/48/Flag_of_Singapore.svg/23px-Flag_of_Singapore.svg.png\" srcset=\"//upload.wikimedia.org/wikipedia/commons/thumb/4/48/Flag_of_Singapore.svg/35px-Flag_of_Singapore.svg.png 1.5x, //upload.wikimedia.org/wikipedia/commons/thumb/4/48/Flag_of_Singapore.svg/45px-Flag_of_Singapore.svg.png 2x\" width=\"23\"/></a>,\n",
       " <a href=\"/wiki/Singapore_Armed_Forces\" title=\"Singapore Armed Forces\">Singapore</a>,\n",
       " <a href=\"/wiki/Algeria\" title=\"Algeria\"><img alt=\"Algeria\" class=\"thumbborder\" data-file-height=\"600\" data-file-width=\"900\" height=\"15\" src=\"//upload.wikimedia.org/wikipedia/commons/thumb/7/77/Flag_of_Algeria.svg/23px-Flag_of_Algeria.svg.png\" srcset=\"//upload.wikimedia.org/wikipedia/commons/thumb/7/77/Flag_of_Algeria.svg/35px-Flag_of_Algeria.svg.png 1.5x, //upload.wikimedia.org/wikipedia/commons/thumb/7/77/Flag_of_Algeria.svg/45px-Flag_of_Algeria.svg.png 2x\" width=\"23\"/></a>,\n",
       " <a href=\"/wiki/Algerian_People%27s_National_Armed_Forces\" title=\"Algerian People's National Armed Forces\">Algeria</a>,\n",
       " <a href=\"/wiki/Netherlands\" title=\"Netherlands\"><img alt=\"Netherlands\" class=\"thumbborder\" data-file-height=\"600\" data-file-width=\"900\" height=\"15\" src=\"//upload.wikimedia.org/wikipedia/commons/thumb/2/20/Flag_of_the_Netherlands.svg/23px-Flag_of_the_Netherlands.svg.png\" srcset=\"//upload.wikimedia.org/wikipedia/commons/thumb/2/20/Flag_of_the_Netherlands.svg/35px-Flag_of_the_Netherlands.svg.png 1.5x, //upload.wikimedia.org/wikipedia/commons/thumb/2/20/Flag_of_the_Netherlands.svg/45px-Flag_of_the_Netherlands.svg.png 2x\" width=\"23\"/></a>,\n",
       " <a href=\"/wiki/Armed_forces_of_the_Netherlands\" title=\"Armed forces of the Netherlands\">Netherlands</a>,\n",
       " <a href=\"/wiki/Poland\" title=\"Poland\"><img alt=\"Poland\" class=\"thumbborder\" data-file-height=\"800\" data-file-width=\"1280\" height=\"14\" src=\"//upload.wikimedia.org/wikipedia/en/thumb/1/12/Flag_of_Poland.svg/23px-Flag_of_Poland.svg.png\" srcset=\"//upload.wikimedia.org/wikipedia/en/thumb/1/12/Flag_of_Poland.svg/35px-Flag_of_Poland.svg.png 1.5x, //upload.wikimedia.org/wikipedia/en/thumb/1/12/Flag_of_Poland.svg/46px-Flag_of_Poland.svg.png 2x\" width=\"23\"/></a>,\n",
       " <a href=\"/wiki/Polish_Armed_Forces\" title=\"Polish Armed Forces\">Poland</a>,\n",
       " <a href=\"/wiki/Colombia\" title=\"Colombia\"><img alt=\"Colombia\" class=\"thumbborder\" data-file-height=\"300\" data-file-width=\"450\" height=\"15\" src=\"//upload.wikimedia.org/wikipedia/commons/thumb/2/21/Flag_of_Colombia.svg/23px-Flag_of_Colombia.svg.png\" srcset=\"//upload.wikimedia.org/wikipedia/commons/thumb/2/21/Flag_of_Colombia.svg/35px-Flag_of_Colombia.svg.png 1.5x, //upload.wikimedia.org/wikipedia/commons/thumb/2/21/Flag_of_Colombia.svg/45px-Flag_of_Colombia.svg.png 2x\" width=\"23\"/></a>,\n",
       " <a href=\"/wiki/Military_Forces_of_Colombia\" title=\"Military Forces of Colombia\">Colombia</a>,\n",
       " <a href=\"/wiki/Oman\" title=\"Oman\"><img alt=\"Oman\" class=\"thumbborder\" data-file-height=\"300\" data-file-width=\"600\" height=\"12\" src=\"//upload.wikimedia.org/wikipedia/commons/thumb/d/dd/Flag_of_Oman.svg/23px-Flag_of_Oman.svg.png\" srcset=\"//upload.wikimedia.org/wikipedia/commons/thumb/d/dd/Flag_of_Oman.svg/35px-Flag_of_Oman.svg.png 1.5x, //upload.wikimedia.org/wikipedia/commons/thumb/d/dd/Flag_of_Oman.svg/46px-Flag_of_Oman.svg.png 2x\" width=\"23\"/></a>,\n",
       " <a href=\"/wiki/Sultan_of_Oman%27s_Armed_Forces\" title=\"Sultan of Oman's Armed Forces\">Oman</a>,\n",
       " <a href=\"/wiki/Indonesia\" title=\"Indonesia\"><img alt=\"Indonesia\" class=\"thumbborder\" data-file-height=\"300\" data-file-width=\"450\" height=\"15\" src=\"//upload.wikimedia.org/wikipedia/commons/thumb/9/9f/Flag_of_Indonesia.svg/23px-Flag_of_Indonesia.svg.png\" srcset=\"//upload.wikimedia.org/wikipedia/commons/thumb/9/9f/Flag_of_Indonesia.svg/35px-Flag_of_Indonesia.svg.png 1.5x, //upload.wikimedia.org/wikipedia/commons/thumb/9/9f/Flag_of_Indonesia.svg/45px-Flag_of_Indonesia.svg.png 2x\" width=\"23\"/></a>,\n",
       " <a href=\"/wiki/Indonesian_National_Armed_Forces\" title=\"Indonesian National Armed Forces\">Indonesia</a>,\n",
       " <a href=\"/wiki/Iraq\" title=\"Iraq\"><img alt=\"Iraq\" class=\"thumbborder\" data-file-height=\"274\" data-file-width=\"411\" height=\"15\" src=\"//upload.wikimedia.org/wikipedia/commons/thumb/f/f6/Flag_of_Iraq.svg/23px-Flag_of_Iraq.svg.png\" srcset=\"//upload.wikimedia.org/wikipedia/commons/thumb/f/f6/Flag_of_Iraq.svg/35px-Flag_of_Iraq.svg.png 1.5x, //upload.wikimedia.org/wikipedia/commons/thumb/f/f6/Flag_of_Iraq.svg/45px-Flag_of_Iraq.svg.png 2x\" width=\"23\"/></a>,\n",
       " <a href=\"/wiki/Iraqi_Armed_Forces\" title=\"Iraqi Armed Forces\">Iraq</a>,\n",
       " <a href=\"/wiki/Kuwait\" title=\"Kuwait\"><img alt=\"Kuwait\" class=\"thumbborder\" data-file-height=\"600\" data-file-width=\"1200\" height=\"12\" src=\"//upload.wikimedia.org/wikipedia/commons/thumb/a/aa/Flag_of_Kuwait.svg/23px-Flag_of_Kuwait.svg.png\" srcset=\"//upload.wikimedia.org/wikipedia/commons/thumb/a/aa/Flag_of_Kuwait.svg/35px-Flag_of_Kuwait.svg.png 1.5x, //upload.wikimedia.org/wikipedia/commons/thumb/a/aa/Flag_of_Kuwait.svg/46px-Flag_of_Kuwait.svg.png 2x\" width=\"23\"/></a>,\n",
       " <a href=\"/wiki/Kuwait_Military_Forces\" title=\"Kuwait Military Forces\">Kuwait</a>,\n",
       " <a href=\"/wiki/Norway\" title=\"Norway\"><img alt=\"Norway\" class=\"thumbborder\" data-file-height=\"800\" data-file-width=\"1100\" height=\"15\" src=\"//upload.wikimedia.org/wikipedia/commons/thumb/d/d9/Flag_of_Norway.svg/21px-Flag_of_Norway.svg.png\" srcset=\"//upload.wikimedia.org/wikipedia/commons/thumb/d/d9/Flag_of_Norway.svg/32px-Flag_of_Norway.svg.png 1.5x, //upload.wikimedia.org/wikipedia/commons/thumb/d/d9/Flag_of_Norway.svg/41px-Flag_of_Norway.svg.png 2x\" width=\"21\"/></a>,\n",
       " <a href=\"/wiki/Norwegian_Armed_Forces\" title=\"Norwegian Armed Forces\">Norway</a>,\n",
       " <a href=\"/wiki/Thailand\" title=\"Thailand\"><img alt=\"Thailand\" class=\"thumbborder\" data-file-height=\"600\" data-file-width=\"900\" height=\"15\" src=\"//upload.wikimedia.org/wikipedia/commons/thumb/a/a9/Flag_of_Thailand.svg/23px-Flag_of_Thailand.svg.png\" srcset=\"//upload.wikimedia.org/wikipedia/commons/thumb/a/a9/Flag_of_Thailand.svg/35px-Flag_of_Thailand.svg.png 1.5x, //upload.wikimedia.org/wikipedia/commons/thumb/a/a9/Flag_of_Thailand.svg/45px-Flag_of_Thailand.svg.png 2x\" width=\"23\"/></a>,\n",
       " <a href=\"/wiki/Royal_Thai_Armed_Forces\" title=\"Royal Thai Armed Forces\">Thailand</a>,\n",
       " <a href=\"/wiki/Mexico\" title=\"Mexico\"><img alt=\"Mexico\" class=\"thumbborder\" data-file-height=\"480\" data-file-width=\"840\" height=\"13\" src=\"//upload.wikimedia.org/wikipedia/commons/thumb/f/fc/Flag_of_Mexico.svg/23px-Flag_of_Mexico.svg.png\" srcset=\"//upload.wikimedia.org/wikipedia/commons/thumb/f/fc/Flag_of_Mexico.svg/35px-Flag_of_Mexico.svg.png 1.5x, //upload.wikimedia.org/wikipedia/commons/thumb/f/fc/Flag_of_Mexico.svg/46px-Flag_of_Mexico.svg.png 2x\" width=\"23\"/></a>,\n",
       " <a href=\"/wiki/Mexican_Armed_Forces\" title=\"Mexican Armed Forces\">Mexico</a>,\n",
       " <a href=\"/wiki/Argentina\" title=\"Argentina\"><img alt=\"Argentina\" class=\"thumbborder\" data-file-height=\"500\" data-file-width=\"800\" height=\"14\" src=\"//upload.wikimedia.org/wikipedia/commons/thumb/1/1a/Flag_of_Argentina.svg/23px-Flag_of_Argentina.svg.png\" srcset=\"//upload.wikimedia.org/wikipedia/commons/thumb/1/1a/Flag_of_Argentina.svg/35px-Flag_of_Argentina.svg.png 1.5x, //upload.wikimedia.org/wikipedia/commons/thumb/1/1a/Flag_of_Argentina.svg/46px-Flag_of_Argentina.svg.png 2x\" width=\"23\"/></a>,\n",
       " <a href=\"/wiki/Armed_Forces_of_the_Argentine_Republic\" title=\"Armed Forces of the Argentine Republic\">Argentina</a>,\n",
       " <a href=\"/wiki/Sweden\" title=\"Sweden\"><img alt=\"Sweden\" class=\"thumbborder\" data-file-height=\"1000\" data-file-width=\"1600\" height=\"14\" src=\"//upload.wikimedia.org/wikipedia/en/thumb/4/4c/Flag_of_Sweden.svg/23px-Flag_of_Sweden.svg.png\" srcset=\"//upload.wikimedia.org/wikipedia/en/thumb/4/4c/Flag_of_Sweden.svg/35px-Flag_of_Sweden.svg.png 1.5x, //upload.wikimedia.org/wikipedia/en/thumb/4/4c/Flag_of_Sweden.svg/46px-Flag_of_Sweden.svg.png 2x\" width=\"23\"/></a>,\n",
       " <a href=\"/wiki/Swedish_Armed_Forces\" title=\"Swedish Armed Forces\">Sweden</a>,\n",
       " <a href=\"/wiki/Chile\" title=\"Chile\"><img alt=\"Chile\" class=\"thumbborder\" data-file-height=\"1000\" data-file-width=\"1500\" height=\"15\" src=\"//upload.wikimedia.org/wikipedia/commons/thumb/7/78/Flag_of_Chile.svg/23px-Flag_of_Chile.svg.png\" srcset=\"//upload.wikimedia.org/wikipedia/commons/thumb/7/78/Flag_of_Chile.svg/35px-Flag_of_Chile.svg.png 1.5x, //upload.wikimedia.org/wikipedia/commons/thumb/7/78/Flag_of_Chile.svg/45px-Flag_of_Chile.svg.png 2x\" width=\"23\"/></a>,\n",
       " <a href=\"/wiki/Military_of_Chile\" title=\"Military of Chile\">Chile</a>,\n",
       " <a href=\"/wiki/Greece\" title=\"Greece\"><img alt=\"Greece\" class=\"thumbborder\" data-file-height=\"400\" data-file-width=\"600\" height=\"15\" src=\"//upload.wikimedia.org/wikipedia/commons/thumb/5/5c/Flag_of_Greece.svg/23px-Flag_of_Greece.svg.png\" srcset=\"//upload.wikimedia.org/wikipedia/commons/thumb/5/5c/Flag_of_Greece.svg/35px-Flag_of_Greece.svg.png 1.5x, //upload.wikimedia.org/wikipedia/commons/thumb/5/5c/Flag_of_Greece.svg/45px-Flag_of_Greece.svg.png 2x\" width=\"23\"/></a>,\n",
       " <a href=\"/wiki/Hellenic_Armed_Forces\" title=\"Hellenic Armed Forces\">Greece</a>,\n",
       " <a href=\"/wiki/Vietnam\" title=\"Vietnam\"><img alt=\"Vietnam\" class=\"thumbborder\" data-file-height=\"600\" data-file-width=\"900\" height=\"15\" src=\"//upload.wikimedia.org/wikipedia/commons/thumb/2/21/Flag_of_Vietnam.svg/23px-Flag_of_Vietnam.svg.png\" srcset=\"//upload.wikimedia.org/wikipedia/commons/thumb/2/21/Flag_of_Vietnam.svg/35px-Flag_of_Vietnam.svg.png 1.5x, //upload.wikimedia.org/wikipedia/commons/thumb/2/21/Flag_of_Vietnam.svg/45px-Flag_of_Vietnam.svg.png 2x\" width=\"23\"/></a>,\n",
       " <a href=\"/wiki/People%27s_Army_of_Vietnam\" title=\"People's Army of Vietnam\">Vietnam</a>,\n",
       " <a href=\"/wiki/Switzerland\" title=\"Switzerland\"><img alt=\"Switzerland\" class=\"thumbborder\" data-file-height=\"1000\" data-file-width=\"1000\" height=\"16\" src=\"//upload.wikimedia.org/wikipedia/commons/thumb/f/f3/Flag_of_Switzerland.svg/16px-Flag_of_Switzerland.svg.png\" srcset=\"//upload.wikimedia.org/wikipedia/commons/thumb/f/f3/Flag_of_Switzerland.svg/24px-Flag_of_Switzerland.svg.png 1.5x, //upload.wikimedia.org/wikipedia/commons/thumb/f/f3/Flag_of_Switzerland.svg/32px-Flag_of_Switzerland.svg.png 2x\" width=\"16\"/></a>,\n",
       " <a href=\"/wiki/Swiss_Armed_Forces\" title=\"Swiss Armed Forces\">Switzerland</a>,\n",
       " <a href=\"/wiki/Belgium\" title=\"Belgium\"><img alt=\"Belgium\" class=\"thumbborder\" data-file-height=\"300\" data-file-width=\"450\" height=\"15\" src=\"//upload.wikimedia.org/wikipedia/commons/thumb/9/92/Flag_of_Belgium_%28civil%29.svg/23px-Flag_of_Belgium_%28civil%29.svg.png\" srcset=\"//upload.wikimedia.org/wikipedia/commons/thumb/9/92/Flag_of_Belgium_%28civil%29.svg/35px-Flag_of_Belgium_%28civil%29.svg.png 1.5x, //upload.wikimedia.org/wikipedia/commons/thumb/9/92/Flag_of_Belgium_%28civil%29.svg/45px-Flag_of_Belgium_%28civil%29.svg.png 2x\" width=\"23\"/></a>,\n",
       " <a href=\"/wiki/Belgian_Armed_Forces\" title=\"Belgian Armed Forces\">Belgium</a>,\n",
       " <a href=\"/wiki/Sudan\" title=\"Sudan\"><img alt=\"Sudan\" class=\"thumbborder\" data-file-height=\"300\" data-file-width=\"600\" height=\"12\" src=\"//upload.wikimedia.org/wikipedia/commons/thumb/0/01/Flag_of_Sudan.svg/23px-Flag_of_Sudan.svg.png\" srcset=\"//upload.wikimedia.org/wikipedia/commons/thumb/0/01/Flag_of_Sudan.svg/35px-Flag_of_Sudan.svg.png 1.5x, //upload.wikimedia.org/wikipedia/commons/thumb/0/01/Flag_of_Sudan.svg/46px-Flag_of_Sudan.svg.png 2x\" width=\"23\"/></a>,\n",
       " <a href=\"/wiki/Sudanese_Armed_Forces\" title=\"Sudanese Armed Forces\">Sudan</a>,\n",
       " <a href=\"/wiki/Philippines\" title=\"Philippines\"><img alt=\"Philippines\" class=\"thumbborder\" data-file-height=\"450\" data-file-width=\"900\" height=\"12\" src=\"//upload.wikimedia.org/wikipedia/commons/thumb/9/99/Flag_of_the_Philippines.svg/23px-Flag_of_the_Philippines.svg.png\" srcset=\"//upload.wikimedia.org/wikipedia/commons/thumb/9/99/Flag_of_the_Philippines.svg/35px-Flag_of_the_Philippines.svg.png 1.5x, //upload.wikimedia.org/wikipedia/commons/thumb/9/99/Flag_of_the_Philippines.svg/46px-Flag_of_the_Philippines.svg.png 2x\" width=\"23\"/></a>,\n",
       " <a href=\"/wiki/Armed_Forces_of_the_Philippines\" title=\"Armed Forces of the Philippines\">Philippines</a>,\n",
       " <a href=\"/wiki/Romania\" title=\"Romania\"><img alt=\"Romania\" class=\"thumbborder\" data-file-height=\"400\" data-file-width=\"600\" height=\"15\" src=\"//upload.wikimedia.org/wikipedia/commons/thumb/7/73/Flag_of_Romania.svg/23px-Flag_of_Romania.svg.png\" srcset=\"//upload.wikimedia.org/wikipedia/commons/thumb/7/73/Flag_of_Romania.svg/35px-Flag_of_Romania.svg.png 1.5x, //upload.wikimedia.org/wikipedia/commons/thumb/7/73/Flag_of_Romania.svg/45px-Flag_of_Romania.svg.png 2x\" width=\"23\"/></a>,\n",
       " <a href=\"/wiki/Romanian_Armed_Forces\" title=\"Romanian Armed Forces\">Romania</a>,\n",
       " <a href=\"/wiki/Denmark\" title=\"Denmark\"><img alt=\"Denmark\" class=\"thumbborder\" data-file-height=\"560\" data-file-width=\"740\" height=\"15\" src=\"//upload.wikimedia.org/wikipedia/commons/thumb/9/9c/Flag_of_Denmark.svg/20px-Flag_of_Denmark.svg.png\" srcset=\"//upload.wikimedia.org/wikipedia/commons/thumb/9/9c/Flag_of_Denmark.svg/31px-Flag_of_Denmark.svg.png 1.5x, //upload.wikimedia.org/wikipedia/commons/thumb/9/9c/Flag_of_Denmark.svg/40px-Flag_of_Denmark.svg.png 2x\" width=\"20\"/></a>,\n",
       " <a href=\"/wiki/Danish_Defence\" title=\"Danish Defence\">Denmark</a>,\n",
       " <a href=\"/wiki/Portugal\" title=\"Portugal\"><img alt=\"Portugal\" class=\"thumbborder\" data-file-height=\"400\" data-file-width=\"600\" height=\"15\" src=\"//upload.wikimedia.org/wikipedia/commons/thumb/5/5c/Flag_of_Portugal.svg/23px-Flag_of_Portugal.svg.png\" srcset=\"//upload.wikimedia.org/wikipedia/commons/thumb/5/5c/Flag_of_Portugal.svg/35px-Flag_of_Portugal.svg.png 1.5x, //upload.wikimedia.org/wikipedia/commons/thumb/5/5c/Flag_of_Portugal.svg/45px-Flag_of_Portugal.svg.png 2x\" width=\"23\"/></a>,\n",
       " <a href=\"/wiki/Portuguese_Armed_Forces\" title=\"Portuguese Armed Forces\">Portugal</a>,\n",
       " <a href=\"/wiki/Ukraine\" title=\"Ukraine\"><img alt=\"Ukraine\" class=\"thumbborder\" data-file-height=\"800\" data-file-width=\"1200\" height=\"15\" src=\"//upload.wikimedia.org/wikipedia/commons/thumb/4/49/Flag_of_Ukraine.svg/23px-Flag_of_Ukraine.svg.png\" srcset=\"//upload.wikimedia.org/wikipedia/commons/thumb/4/49/Flag_of_Ukraine.svg/35px-Flag_of_Ukraine.svg.png 1.5x, //upload.wikimedia.org/wikipedia/commons/thumb/4/49/Flag_of_Ukraine.svg/45px-Flag_of_Ukraine.svg.png 2x\" width=\"23\"/></a>,\n",
       " <a href=\"/wiki/Armed_Forces_of_Ukraine\" title=\"Armed Forces of Ukraine\">Ukraine</a>,\n",
       " <a href=\"/wiki/South_Africa\" title=\"South Africa\"><img alt=\"South Africa\" class=\"thumbborder\" data-file-height=\"600\" data-file-width=\"900\" height=\"15\" src=\"//upload.wikimedia.org/wikipedia/commons/thumb/a/af/Flag_of_South_Africa.svg/23px-Flag_of_South_Africa.svg.png\" srcset=\"//upload.wikimedia.org/wikipedia/commons/thumb/a/af/Flag_of_South_Africa.svg/35px-Flag_of_South_Africa.svg.png 1.5x, //upload.wikimedia.org/wikipedia/commons/thumb/a/af/Flag_of_South_Africa.svg/45px-Flag_of_South_Africa.svg.png 2x\" width=\"23\"/></a>,\n",
       " <a href=\"/wiki/South_African_National_Defence_Force\" title=\"South African National Defence Force\">South Africa</a>,\n",
       " <a href=\"/wiki/Finland\" title=\"Finland\"><img alt=\"Finland\" class=\"thumbborder\" data-file-height=\"1100\" data-file-width=\"1800\" height=\"14\" src=\"//upload.wikimedia.org/wikipedia/commons/thumb/b/bc/Flag_of_Finland.svg/23px-Flag_of_Finland.svg.png\" srcset=\"//upload.wikimedia.org/wikipedia/commons/thumb/b/bc/Flag_of_Finland.svg/35px-Flag_of_Finland.svg.png 1.5x, //upload.wikimedia.org/wikipedia/commons/thumb/b/bc/Flag_of_Finland.svg/46px-Flag_of_Finland.svg.png 2x\" width=\"23\"/></a>,\n",
       " <a href=\"/wiki/Finnish_Defence_Forces\" title=\"Finnish Defence Forces\">Finland</a>,\n",
       " <a href=\"/wiki/Bangladesh\" title=\"Bangladesh\"><img alt=\"Bangladesh\" class=\"thumbborder\" data-file-height=\"300\" data-file-width=\"500\" height=\"14\" src=\"//upload.wikimedia.org/wikipedia/commons/thumb/f/f9/Flag_of_Bangladesh.svg/23px-Flag_of_Bangladesh.svg.png\" srcset=\"//upload.wikimedia.org/wikipedia/commons/thumb/f/f9/Flag_of_Bangladesh.svg/35px-Flag_of_Bangladesh.svg.png 1.5x, //upload.wikimedia.org/wikipedia/commons/thumb/f/f9/Flag_of_Bangladesh.svg/46px-Flag_of_Bangladesh.svg.png 2x\" width=\"23\"/></a>,\n",
       " <a href=\"/wiki/Bangladesh_Armed_Forces\" title=\"Bangladesh Armed Forces\">Bangladesh</a>,\n",
       " <a href=\"/wiki/Malaysia\" title=\"Malaysia\"><img alt=\"Malaysia\" class=\"thumbborder\" data-file-height=\"1400\" data-file-width=\"2800\" height=\"12\" src=\"//upload.wikimedia.org/wikipedia/commons/thumb/6/66/Flag_of_Malaysia.svg/23px-Flag_of_Malaysia.svg.png\" srcset=\"//upload.wikimedia.org/wikipedia/commons/thumb/6/66/Flag_of_Malaysia.svg/35px-Flag_of_Malaysia.svg.png 1.5x, //upload.wikimedia.org/wikipedia/commons/thumb/6/66/Flag_of_Malaysia.svg/46px-Flag_of_Malaysia.svg.png 2x\" width=\"23\"/></a>,\n",
       " <a href=\"/wiki/Malaysian_Armed_Forces\" title=\"Malaysian Armed Forces\">Malaysia</a>,\n",
       " <a href=\"/wiki/Morocco\" title=\"Morocco\"><img alt=\"Morocco\" class=\"thumbborder\" data-file-height=\"600\" data-file-width=\"900\" height=\"15\" src=\"//upload.wikimedia.org/wikipedia/commons/thumb/2/2c/Flag_of_Morocco.svg/23px-Flag_of_Morocco.svg.png\" srcset=\"//upload.wikimedia.org/wikipedia/commons/thumb/2/2c/Flag_of_Morocco.svg/35px-Flag_of_Morocco.svg.png 1.5x, //upload.wikimedia.org/wikipedia/commons/thumb/2/2c/Flag_of_Morocco.svg/45px-Flag_of_Morocco.svg.png 2x\" width=\"23\"/></a>,\n",
       " <a href=\"/wiki/Royal_Moroccan_Armed_Forces\" title=\"Royal Moroccan Armed Forces\">Morocco</a>,\n",
       " <a href=\"/wiki/United_States\" title=\"United States\"><img alt=\"United States\" class=\"thumbborder\" data-file-height=\"650\" data-file-width=\"1235\" height=\"12\" src=\"//upload.wikimedia.org/wikipedia/en/thumb/a/a4/Flag_of_the_United_States.svg/23px-Flag_of_the_United_States.svg.png\" srcset=\"//upload.wikimedia.org/wikipedia/en/thumb/a/a4/Flag_of_the_United_States.svg/35px-Flag_of_the_United_States.svg.png 1.5x, //upload.wikimedia.org/wikipedia/en/thumb/a/a4/Flag_of_the_United_States.svg/46px-Flag_of_the_United_States.svg.png 2x\" width=\"23\"/></a>,\n",
       " <a href=\"/wiki/United_States_Armed_Forces\" title=\"United States Armed Forces\">United States</a>,\n",
       " <a href=\"/wiki/China\" title=\"China\"><img alt=\"China\" class=\"thumbborder\" data-file-height=\"600\" data-file-width=\"900\" height=\"15\" src=\"//upload.wikimedia.org/wikipedia/commons/thumb/f/fa/Flag_of_the_People%27s_Republic_of_China.svg/23px-Flag_of_the_People%27s_Republic_of_China.svg.png\" srcset=\"//upload.wikimedia.org/wikipedia/commons/thumb/f/fa/Flag_of_the_People%27s_Republic_of_China.svg/35px-Flag_of_the_People%27s_Republic_of_China.svg.png 1.5x, //upload.wikimedia.org/wikipedia/commons/thumb/f/fa/Flag_of_the_People%27s_Republic_of_China.svg/45px-Flag_of_the_People%27s_Republic_of_China.svg.png 2x\" width=\"23\"/></a>,\n",
       " <a href=\"/wiki/People%27s_Liberation_Army\" title=\"People's Liberation Army\">People's Republic of China</a>,\n",
       " <a href=\"/wiki/Saudi_Arabia\" title=\"Saudi Arabia\"><img alt=\"Saudi Arabia\" class=\"thumbborder\" data-file-height=\"500\" data-file-width=\"750\" height=\"15\" src=\"//upload.wikimedia.org/wikipedia/commons/thumb/0/0d/Flag_of_Saudi_Arabia.svg/23px-Flag_of_Saudi_Arabia.svg.png\" srcset=\"//upload.wikimedia.org/wikipedia/commons/thumb/0/0d/Flag_of_Saudi_Arabia.svg/35px-Flag_of_Saudi_Arabia.svg.png 1.5x, //upload.wikimedia.org/wikipedia/commons/thumb/0/0d/Flag_of_Saudi_Arabia.svg/45px-Flag_of_Saudi_Arabia.svg.png 2x\" width=\"23\"/></a>,\n",
       " <a href=\"/wiki/Saudi_Arabia\" title=\"Saudi Arabia\">Saudi Arabia</a>,\n",
       " <a href=\"/wiki/Russia\" title=\"Russia\"><img alt=\"Russia\" class=\"thumbborder\" data-file-height=\"600\" data-file-width=\"900\" height=\"15\" src=\"//upload.wikimedia.org/wikipedia/en/thumb/f/f3/Flag_of_Russia.svg/23px-Flag_of_Russia.svg.png\" srcset=\"//upload.wikimedia.org/wikipedia/en/thumb/f/f3/Flag_of_Russia.svg/35px-Flag_of_Russia.svg.png 1.5x, //upload.wikimedia.org/wikipedia/en/thumb/f/f3/Flag_of_Russia.svg/45px-Flag_of_Russia.svg.png 2x\" width=\"23\"/></a>,\n",
       " <a href=\"/wiki/Russian_Armed_Forces\" title=\"Russian Armed Forces\">Russia</a>,\n",
       " <a href=\"/wiki/India\" title=\"India\"><img alt=\"India\" class=\"thumbborder\" data-file-height=\"900\" data-file-width=\"1350\" height=\"15\" src=\"//upload.wikimedia.org/wikipedia/en/thumb/4/41/Flag_of_India.svg/23px-Flag_of_India.svg.png\" srcset=\"//upload.wikimedia.org/wikipedia/en/thumb/4/41/Flag_of_India.svg/35px-Flag_of_India.svg.png 1.5x, //upload.wikimedia.org/wikipedia/en/thumb/4/41/Flag_of_India.svg/45px-Flag_of_India.svg.png 2x\" width=\"23\"/></a>,\n",
       " <a href=\"/wiki/Indian_Armed_Forces\" title=\"Indian Armed Forces\">India</a>,\n",
       " <a href=\"/wiki/United_Kingdom\" title=\"United Kingdom\"><img alt=\"United Kingdom\" class=\"thumbborder\" data-file-height=\"600\" data-file-width=\"1200\" height=\"12\" src=\"//upload.wikimedia.org/wikipedia/en/thumb/a/ae/Flag_of_the_United_Kingdom.svg/23px-Flag_of_the_United_Kingdom.svg.png\" srcset=\"//upload.wikimedia.org/wikipedia/en/thumb/a/ae/Flag_of_the_United_Kingdom.svg/35px-Flag_of_the_United_Kingdom.svg.png 1.5x, //upload.wikimedia.org/wikipedia/en/thumb/a/ae/Flag_of_the_United_Kingdom.svg/46px-Flag_of_the_United_Kingdom.svg.png 2x\" width=\"23\"/></a>,\n",
       " <a href=\"/wiki/British_Armed_Forces\" title=\"British Armed Forces\">United Kingdom</a>,\n",
       " <a href=\"/wiki/France\" title=\"France\"><img alt=\"France\" class=\"thumbborder\" data-file-height=\"600\" data-file-width=\"900\" height=\"15\" src=\"//upload.wikimedia.org/wikipedia/en/thumb/c/c3/Flag_of_France.svg/23px-Flag_of_France.svg.png\" srcset=\"//upload.wikimedia.org/wikipedia/en/thumb/c/c3/Flag_of_France.svg/35px-Flag_of_France.svg.png 1.5x, //upload.wikimedia.org/wikipedia/en/thumb/c/c3/Flag_of_France.svg/45px-Flag_of_France.svg.png 2x\" width=\"23\"/></a>,\n",
       " <a href=\"/wiki/French_Armed_Forces\" title=\"French Armed Forces\">France</a>,\n",
       " <a href=\"/wiki/Japan\" title=\"Japan\"><img alt=\"Japan\" class=\"thumbborder\" data-file-height=\"600\" data-file-width=\"900\" height=\"15\" src=\"//upload.wikimedia.org/wikipedia/en/thumb/9/9e/Flag_of_Japan.svg/23px-Flag_of_Japan.svg.png\" srcset=\"//upload.wikimedia.org/wikipedia/en/thumb/9/9e/Flag_of_Japan.svg/35px-Flag_of_Japan.svg.png 1.5x, //upload.wikimedia.org/wikipedia/en/thumb/9/9e/Flag_of_Japan.svg/45px-Flag_of_Japan.svg.png 2x\" width=\"23\"/></a>,\n",
       " <a href=\"/wiki/Japan_Self-Defense_Forces\" title=\"Japan Self-Defense Forces\">Japan</a>,\n",
       " <a href=\"/wiki/Germany\" title=\"Germany\"><img alt=\"Germany\" class=\"thumbborder\" data-file-height=\"600\" data-file-width=\"1000\" height=\"14\" src=\"//upload.wikimedia.org/wikipedia/en/thumb/b/ba/Flag_of_Germany.svg/23px-Flag_of_Germany.svg.png\" srcset=\"//upload.wikimedia.org/wikipedia/en/thumb/b/ba/Flag_of_Germany.svg/35px-Flag_of_Germany.svg.png 1.5x, //upload.wikimedia.org/wikipedia/en/thumb/b/ba/Flag_of_Germany.svg/46px-Flag_of_Germany.svg.png 2x\" width=\"23\"/></a>,\n",
       " <a href=\"/wiki/Bundeswehr\" title=\"Bundeswehr\">Germany</a>,\n",
       " <a href=\"/wiki/South_Korea\" title=\"South Korea\"><img alt=\"South Korea\" class=\"thumbborder\" data-file-height=\"600\" data-file-width=\"900\" height=\"15\" src=\"//upload.wikimedia.org/wikipedia/commons/thumb/0/09/Flag_of_South_Korea.svg/23px-Flag_of_South_Korea.svg.png\" srcset=\"//upload.wikimedia.org/wikipedia/commons/thumb/0/09/Flag_of_South_Korea.svg/35px-Flag_of_South_Korea.svg.png 1.5x, //upload.wikimedia.org/wikipedia/commons/thumb/0/09/Flag_of_South_Korea.svg/45px-Flag_of_South_Korea.svg.png 2x\" width=\"23\"/></a>,\n",
       " <a href=\"/wiki/Republic_of_Korea_Armed_Forces\" title=\"Republic of Korea Armed Forces\">South Korea</a>,\n",
       " <a href=\"/wiki/Brazil\" title=\"Brazil\"><img alt=\"Brazil\" class=\"thumbborder\" data-file-height=\"504\" data-file-width=\"720\" height=\"15\" src=\"//upload.wikimedia.org/wikipedia/en/thumb/0/05/Flag_of_Brazil.svg/22px-Flag_of_Brazil.svg.png\" srcset=\"//upload.wikimedia.org/wikipedia/en/thumb/0/05/Flag_of_Brazil.svg/33px-Flag_of_Brazil.svg.png 1.5x, //upload.wikimedia.org/wikipedia/en/thumb/0/05/Flag_of_Brazil.svg/43px-Flag_of_Brazil.svg.png 2x\" width=\"22\"/></a>,\n",
       " <a href=\"/wiki/Brazilian_Armed_Forces\" title=\"Brazilian Armed Forces\">Brazil</a>,\n",
       " <a href=\"/wiki/Australia\" title=\"Australia\"><img alt=\"Australia\" class=\"thumbborder\" data-file-height=\"640\" data-file-width=\"1280\" height=\"12\" src=\"//upload.wikimedia.org/wikipedia/en/thumb/b/b9/Flag_of_Australia.svg/23px-Flag_of_Australia.svg.png\" srcset=\"//upload.wikimedia.org/wikipedia/en/thumb/b/b9/Flag_of_Australia.svg/35px-Flag_of_Australia.svg.png 1.5x, //upload.wikimedia.org/wikipedia/en/thumb/b/b9/Flag_of_Australia.svg/46px-Flag_of_Australia.svg.png 2x\" width=\"23\"/></a>,\n",
       " <a href=\"/wiki/Australian_Defence_Force\" title=\"Australian Defence Force\">Australia</a>,\n",
       " <a href=\"/wiki/Italy\" title=\"Italy\"><img alt=\"Italy\" class=\"thumbborder\" data-file-height=\"1000\" data-file-width=\"1500\" height=\"15\" src=\"//upload.wikimedia.org/wikipedia/en/thumb/0/03/Flag_of_Italy.svg/23px-Flag_of_Italy.svg.png\" srcset=\"//upload.wikimedia.org/wikipedia/en/thumb/0/03/Flag_of_Italy.svg/35px-Flag_of_Italy.svg.png 1.5x, //upload.wikimedia.org/wikipedia/en/thumb/0/03/Flag_of_Italy.svg/45px-Flag_of_Italy.svg.png 2x\" width=\"23\"/></a>,\n",
       " <a href=\"/wiki/Italian_Armed_Forces\" title=\"Italian Armed Forces\">Italy</a>,\n",
       " <a href=\"/wiki/Israel\" title=\"Israel\"><img alt=\"Israel\" class=\"thumbborder\" data-file-height=\"480\" data-file-width=\"660\" height=\"15\" src=\"//upload.wikimedia.org/wikipedia/commons/thumb/d/d4/Flag_of_Israel.svg/21px-Flag_of_Israel.svg.png\" srcset=\"//upload.wikimedia.org/wikipedia/commons/thumb/d/d4/Flag_of_Israel.svg/32px-Flag_of_Israel.svg.png 1.5x, //upload.wikimedia.org/wikipedia/commons/thumb/d/d4/Flag_of_Israel.svg/41px-Flag_of_Israel.svg.png 2x\" width=\"21\"/></a>,\n",
       " <a href=\"/wiki/Israel_Defense_Forces\" title=\"Israel Defense Forces\">Israel</a>,\n",
       " <a href=\"/wiki/Iraq\" title=\"Iraq\"><img alt=\"Iraq\" class=\"thumbborder\" data-file-height=\"274\" data-file-width=\"411\" height=\"15\" src=\"//upload.wikimedia.org/wikipedia/commons/thumb/f/f6/Flag_of_Iraq.svg/23px-Flag_of_Iraq.svg.png\" srcset=\"//upload.wikimedia.org/wikipedia/commons/thumb/f/f6/Flag_of_Iraq.svg/35px-Flag_of_Iraq.svg.png 1.5x, //upload.wikimedia.org/wikipedia/commons/thumb/f/f6/Flag_of_Iraq.svg/45px-Flag_of_Iraq.svg.png 2x\" width=\"23\"/></a>,\n",
       " <a href=\"/wiki/Iraqi_Armed_Forces\" title=\"Iraqi Armed Forces\">Iraq</a>,\n",
       " <a href=\"/w/index.php?title=List_of_countries_by_military_expenditures&amp;action=edit&amp;section=2\" title=\"Edit section: Notes\">edit</a>,\n",
       " <a href=\"#cite_ref-x_5-0\"><sup><i><b>a</b></i></sup></a>,\n",
       " <a href=\"#cite_ref-x_5-1\"><sup><i><b>b</b></i></sup></a>,\n",
       " <a href=\"#cite_ref-y_6-0\">^</a>,\n",
       " <a href=\"/w/index.php?title=List_of_countries_by_military_expenditures&amp;action=edit&amp;section=3\" title=\"Edit section: See also\">edit</a>,\n",
       " <a class=\"extiw\" href=\"https://en.wikinews.org/wiki/Global_annual_military_spending_tops_$1.2_trillion\" title=\"wikinews:Global annual military spending tops $1.2 trillion\"> Global annual military spending tops $1.2 trillion</a>,\n",
       " <a href=\"/wiki/Arms_industry\" title=\"Arms industry\">Arms industry</a>,\n",
       " <a href=\"/wiki/Military_budget\" title=\"Military budget\">Military budget</a>,\n",
       " <a href=\"/wiki/List_of_countries_by_past_military_expenditure\" title=\"List of countries by past military expenditure\">List of countries by past military expenditure</a>,\n",
       " <a href=\"/wiki/List_of_countries_by_military_expenditure_per_capita\" title=\"List of countries by military expenditure per capita\">List of countries by military expenditure per capita</a>,\n",
       " <a href=\"/wiki/List_of_countries_by_military_expenditure_share_of_GDP\" title=\"List of countries by military expenditure share of GDP\">List of countries by military expenditure share of GDP</a>,\n",
       " <a href=\"/wiki/List_of_countries_by_Global_Militarization_Index\" title=\"List of countries by Global Militarization Index\">List of countries by Global Militarization Index</a>,\n",
       " <a href=\"/wiki/Military_budget_of_the_United_States\" title=\"Military budget of the United States\">Military budget of the United States</a>,\n",
       " <a class=\"mw-redirect\" href=\"/wiki/Military_budget_of_the_People%27s_Republic_of_China\" title=\"Military budget of the People's Republic of China\">Military budget of the People's Republic of China</a>,\n",
       " <a href=\"/wiki/Military_budget_of_the_Russian_Federation\" title=\"Military budget of the Russian Federation\">Military budget of the Russian Federation</a>,\n",
       " <a href=\"/w/index.php?title=List_of_countries_by_military_expenditures&amp;action=edit&amp;section=4\" title=\"Edit section: References\">edit</a>,\n",
       " <a href=\"#cite_ref-SIPRI_1-0\"><sup><i><b>a</b></i></sup></a>,\n",
       " <a href=\"#cite_ref-SIPRI_1-1\"><sup><i><b>b</b></i></sup></a>,\n",
       " <a href=\"#cite_ref-SIPRI_1-2\"><sup><i><b>c</b></i></sup></a>,\n",
       " <a class=\"external text\" href=\"https://www.sipri.org/sites/default/files/2018-04/sipri_fs_1805_milex_2017.pdf\" rel=\"nofollow\">\"Trends in World Military Expenditure, 2017\"</a>,\n",
       " <a href=\"/wiki/Stockholm_International_Peace_Research_Institute\" title=\"Stockholm International Peace Research Institute\">Stockholm International Peace Research Institute</a>,\n",
       " <a href=\"#cite_ref-IISS_2-0\">^</a>,\n",
       " <a href=\"/wiki/International_Institute_for_Strategic_Studies\" title=\"International Institute for Strategic Studies\">International Institute for Strategic Studies</a>,\n",
       " <a href=\"/wiki/London\" title=\"London\">London</a>,\n",
       " <a href=\"/wiki/Routledge\" title=\"Routledge\">Routledge</a>,\n",
       " <a href=\"/wiki/International_Standard_Book_Number\" title=\"International Standard Book Number\">ISBN</a>,\n",
       " <a href=\"/wiki/Special:BookSources/1857437667\" title=\"Special:BookSources/1857437667\">1857437667</a>,\n",
       " <a href=\"#cite_ref-3\">^</a>,\n",
       " <a class=\"external text\" href=\"https://www.sipri.org/sites/default/files/1_Data%20for%20all%20countries%20from%201988%E2%80%932017%20in%20constant%20%282016%29%20USD.pdf\" rel=\"nofollow\">\"Data for all countries from 1988–2017 in constant (2016) USD (pdf)\"</a>,\n",
       " <a href=\"#cite_ref-4\">^</a>,\n",
       " <a class=\"external text\" href=\"https://www.iiss.org/-/media//documents/publications/the%20military%20balance/mb18/top-15-defence-budgets-2017.jpg?la=en\" rel=\"nofollow\">\"IISS Military Balance 2017\"</a>,\n",
       " <a href=\"/w/index.php?title=List_of_countries_by_military_expenditures&amp;action=edit&amp;section=5\" title=\"Edit section: External links\">edit</a>,\n",
       " <a class=\"external text\" href=\"https://web.archive.org/web/20100328072123/http://milexdata.sipri.org/\" rel=\"nofollow\">SIPRI military expenditure database</a>,\n",
       " <a href=\"/wiki/Template:Military_country_lists\" title=\"Template:Military country lists\"><abbr style=\";;background:none transparent;border:none;-moz-box-shadow:none;-webkit-box-shadow:none;box-shadow:none; padding:0;\" title=\"View this template\">v</abbr></a>,\n",
       " <a href=\"/wiki/Template_talk:Military_country_lists\" title=\"Template talk:Military country lists\"><abbr style=\";;background:none transparent;border:none;-moz-box-shadow:none;-webkit-box-shadow:none;box-shadow:none; padding:0;\" title=\"Discuss this template\">t</abbr></a>,\n",
       " <a class=\"external text\" href=\"//en.wikipedia.org/w/index.php?title=Template:Military_country_lists&amp;action=edit\"><abbr style=\";;background:none transparent;border:none;-moz-box-shadow:none;-webkit-box-shadow:none;box-shadow:none; padding:0;\" title=\"Edit this template\">e</abbr></a>,\n",
       " <a href=\"/wiki/Lists_of_countries_and_territories\" title=\"Lists of countries and territories\">Lists of countries</a>,\n",
       " <a href=\"/wiki/Military\" title=\"Military\">military</a>,\n",
       " <a href=\"/wiki/List_of_countries_by_number_of_military_and_paramilitary_personnel\" title=\"List of countries by number of military and paramilitary personnel\">Military and paramilitary personnel</a>,\n",
       " <a href=\"/wiki/List_of_countries_by_level_of_military_equipment\" title=\"List of countries by level of military equipment\">Military equipment</a>,\n",
       " <a href=\"/wiki/List_of_aircraft_carriers_in_service\" title=\"List of aircraft carriers in service\">Aircraft carriers</a>,\n",
       " <a href=\"/wiki/List_of_navies_by_displacement\" title=\"List of navies by displacement\">Navies displacement</a>,\n",
       " <a href=\"/wiki/List_of_states_with_nuclear_weapons\" title=\"List of states with nuclear weapons\">Nuclear weapons</a>,\n",
       " <a href=\"/wiki/Arms_industry#World's_largest_arms_exporters\" title=\"Arms industry\">Arms exports</a>,\n",
       " <a href=\"/wiki/Arms_industry#World's_largest_arms_importers\" title=\"Arms industry\">Arms imports</a>,\n",
       " <a class=\"mw-selflink selflink\">Military budget</a>,\n",
       " <a href=\"/wiki/List_of_countries_by_military_expenditure_per_capita\" title=\"List of countries by military expenditure per capita\">per capita</a>,\n",
       " <a href=\"/wiki/List_of_countries_by_military_expenditure_share_of_GDP\" title=\"List of countries by military expenditure share of GDP\">per share of GDP</a>,\n",
       " <a href=\"/wiki/List_of_countries_by_Global_Militarization_Index\" title=\"List of countries by Global Militarization Index\">Militarization index</a>,\n",
       " <a href=\"/wiki/Global_Peace_Index\" title=\"Global Peace Index\">Global Peace Index</a>,\n",
       " <a href=\"/wiki/Global_Terrorism_Index\" title=\"Global Terrorism Index\">Global Terrorism Index</a>,\n",
       " <a href=\"/wiki/List_of_countries_by_number_of_UN_peacekeepers\" title=\"List of countries by number of UN peacekeepers\">UN peacekeepers</a>,\n",
       " <a href=\"/wiki/List_of_international_rankings\" title=\"List of international rankings\">List of international rankings</a>,\n",
       " <a href=\"/wiki/List_of_top_international_rankings_by_country\" title=\"List of top international rankings by country\">List of top international rankings by country</a>,\n",
       " <a href=\"/wiki/Lists_by_country\" title=\"Lists by country\">Lists by country</a>,\n",
       " <a dir=\"ltr\" href=\"https://en.wikipedia.org/w/index.php?title=List_of_countries_by_military_expenditures&amp;oldid=852113438\">https://en.wikipedia.org/w/index.php?title=List_of_countries_by_military_expenditures&amp;oldid=852113438</a>,\n",
       " <a href=\"/wiki/Help:Category\" title=\"Help:Category\">Categories</a>,\n",
       " <a href=\"/wiki/Category:Military_comparisons_lists_of_countries\" title=\"Category:Military comparisons lists of countries\">Military comparisons lists of countries</a>,\n",
       " <a href=\"/wiki/Category:Government_budgets\" title=\"Category:Government budgets\">Government budgets</a>,\n",
       " <a href=\"/wiki/Category:Military_economics\" title=\"Category:Military economics\">Military economics</a>,\n",
       " <a href=\"/wiki/Category:Military_budgets\" title=\"Category:Military budgets\">Military budgets</a>,\n",
       " <a accesskey=\"n\" href=\"/wiki/Special:MyTalk\" title=\"Discussion about edits from this IP address [n]\">Talk</a>,\n",
       " <a accesskey=\"y\" href=\"/wiki/Special:MyContributions\" title=\"A list of edits made from this IP address [y]\">Contributions</a>,\n",
       " <a href=\"/w/index.php?title=Special:CreateAccount&amp;returnto=List+of+countries+by+military+expenditures\" title=\"You are encouraged to create an account and log in; however, it is not mandatory\">Create account</a>,\n",
       " <a accesskey=\"o\" href=\"/w/index.php?title=Special:UserLogin&amp;returnto=List+of+countries+by+military+expenditures\" title=\"You're encouraged to log in; however, it's not mandatory. [o]\">Log in</a>,\n",
       " <a accesskey=\"c\" href=\"/wiki/List_of_countries_by_military_expenditures\" title=\"View the content page [c]\">Article</a>,\n",
       " <a accesskey=\"t\" href=\"/wiki/Talk:List_of_countries_by_military_expenditures\" rel=\"discussion\" title=\"Discussion about the content page [t]\">Talk</a>,\n",
       " <a href=\"/wiki/List_of_countries_by_military_expenditures\">Read</a>,\n",
       " <a accesskey=\"e\" href=\"/w/index.php?title=List_of_countries_by_military_expenditures&amp;action=edit\" title=\"Edit this page [e]\">Edit</a>,\n",
       " <a accesskey=\"h\" href=\"/w/index.php?title=List_of_countries_by_military_expenditures&amp;action=history\" title=\"Past revisions of this page [h]\">View history</a>,\n",
       " <a class=\"mw-wiki-logo\" href=\"/wiki/Main_Page\" title=\"Visit the main page\"></a>,\n",
       " <a accesskey=\"z\" href=\"/wiki/Main_Page\" title=\"Visit the main page [z]\">Main page</a>,\n",
       " <a href=\"/wiki/Portal:Contents\" title=\"Guides to browsing Wikipedia\">Contents</a>,\n",
       " <a href=\"/wiki/Portal:Featured_content\" title=\"Featured content – the best of Wikipedia\">Featured content</a>,\n",
       " <a href=\"/wiki/Portal:Current_events\" title=\"Find background information on current events\">Current events</a>,\n",
       " <a accesskey=\"x\" href=\"/wiki/Special:Random\" title=\"Load a random article [x]\">Random article</a>,\n",
       " <a href=\"https://donate.wikimedia.org/wiki/Special:FundraiserRedirector?utm_source=donate&amp;utm_medium=sidebar&amp;utm_campaign=C13_en.wikipedia.org&amp;uselang=en\" title=\"Support us\">Donate to Wikipedia</a>,\n",
       " <a href=\"//shop.wikimedia.org\" title=\"Visit the Wikipedia store\">Wikipedia store</a>,\n",
       " <a href=\"/wiki/Help:Contents\" title=\"Guidance on how to use and edit Wikipedia\">Help</a>,\n",
       " <a href=\"/wiki/Wikipedia:About\" title=\"Find out about Wikipedia\">About Wikipedia</a>,\n",
       " <a href=\"/wiki/Wikipedia:Community_portal\" title=\"About the project, what you can do, where to find things\">Community portal</a>,\n",
       " <a accesskey=\"r\" href=\"/wiki/Special:RecentChanges\" title=\"A list of recent changes in the wiki [r]\">Recent changes</a>,\n",
       " <a href=\"//en.wikipedia.org/wiki/Wikipedia:Contact_us\" title=\"How to contact Wikipedia\">Contact page</a>,\n",
       " <a accesskey=\"j\" href=\"/wiki/Special:WhatLinksHere/List_of_countries_by_military_expenditures\" title=\"List of all English Wikipedia pages containing links to this page [j]\">What links here</a>,\n",
       " <a accesskey=\"k\" href=\"/wiki/Special:RecentChangesLinked/List_of_countries_by_military_expenditures\" rel=\"nofollow\" title=\"Recent changes in pages linked from this page [k]\">Related changes</a>,\n",
       " <a accesskey=\"u\" href=\"/wiki/Wikipedia:File_Upload_Wizard\" title=\"Upload files [u]\">Upload file</a>,\n",
       " <a accesskey=\"q\" href=\"/wiki/Special:SpecialPages\" title=\"A list of all special pages [q]\">Special pages</a>,\n",
       " <a href=\"/w/index.php?title=List_of_countries_by_military_expenditures&amp;oldid=852113438\" title=\"Permanent link to this revision of the page\">Permanent link</a>,\n",
       " <a href=\"/w/index.php?title=List_of_countries_by_military_expenditures&amp;action=info\" title=\"More information about this page\">Page information</a>,\n",
       " <a accesskey=\"g\" href=\"https://www.wikidata.org/wiki/Special:EntityPage/Q874302\" title=\"Link to connected data repository item [g]\">Wikidata item</a>,\n",
       " <a href=\"/w/index.php?title=Special:CiteThisPage&amp;page=List_of_countries_by_military_expenditures&amp;id=852113438\" title=\"Information on how to cite this page\">Cite this page</a>,\n",
       " <a href=\"/w/index.php?title=Special:Book&amp;bookcmd=book_creator&amp;referer=List+of+countries+by+military+expenditures\">Create a book</a>,\n",
       " <a href=\"/w/index.php?title=Special:ElectronPdf&amp;page=List+of+countries+by+military+expenditures&amp;action=show-download-screen\">Download as PDF</a>,\n",
       " <a accesskey=\"p\" href=\"/w/index.php?title=List_of_countries_by_military_expenditures&amp;printable=yes\" title=\"Printable version of this page [p]\">Printable version</a>,\n",
       " <a class=\"interlanguage-link-target\" href=\"https://ar.wikipedia.org/wiki/%D9%82%D8%A7%D8%A6%D9%85%D8%A9_%D8%A7%D9%84%D8%AF%D9%88%D9%84_%D8%AD%D8%B3%D8%A8_%D8%A7%D9%84%D8%A5%D9%86%D9%81%D8%A7%D9%82_%D8%A7%D9%84%D8%B9%D8%B3%D9%83%D8%B1%D9%8A\" hreflang=\"ar\" lang=\"ar\" title=\"قائمة الدول حسب الإنفاق العسكري – Arabic\">العربية</a>,\n",
       " <a class=\"interlanguage-link-target\" href=\"https://bn.wikipedia.org/wiki/%E0%A6%B8%E0%A6%BE%E0%A6%AE%E0%A6%B0%E0%A6%BF%E0%A6%95_%E0%A6%AC%E0%A7%8D%E0%A6%AF%E0%A6%AF%E0%A6%BC_%E0%A6%85%E0%A6%A8%E0%A7%81%E0%A6%AF%E0%A6%BE%E0%A6%AF%E0%A6%BC%E0%A7%80_%E0%A6%A6%E0%A7%87%E0%A6%B6%E0%A7%87%E0%A6%B0_%E0%A6%A4%E0%A6%BE%E0%A6%B2%E0%A6%BF%E0%A6%95%E0%A6%BE\" hreflang=\"bn\" lang=\"bn\" title=\"সামরিক ব্যয় অনুযায়ী দেশের তালিকা – Bangla\">বাংলা</a>,\n",
       " <a class=\"interlanguage-link-target\" href=\"https://bg.wikipedia.org/wiki/%D0%A1%D0%BF%D0%B8%D1%81%D1%8A%D0%BA_%D0%BD%D0%B0_%D1%81%D1%82%D1%80%D0%B0%D0%BD%D0%B8%D1%82%D0%B5_%D0%BF%D0%BE_%D0%B2%D0%BE%D0%B5%D0%BD%D0%BD%D0%B8_%D1%80%D0%B0%D0%B7%D1%85%D0%BE%D0%B4%D0%B8\" hreflang=\"bg\" lang=\"bg\" title=\"Списък на страните по военни разходи – Bulgarian\">Български</a>,\n",
       " <a class=\"interlanguage-link-target\" href=\"https://es.wikipedia.org/wiki/Anexo:Pa%C3%ADses_por_gasto_militar\" hreflang=\"es\" lang=\"es\" title=\"Anexo:Países por gasto militar – Spanish\">Español</a>,\n",
       " <a class=\"interlanguage-link-target\" href=\"https://fa.wikipedia.org/wiki/%D9%81%D9%87%D8%B1%D8%B3%D8%AA_%DA%A9%D8%B4%D9%88%D8%B1%D9%87%D8%A7_%D8%A8%D8%B1_%D9%BE%D8%A7%DB%8C%D9%87_%D9%87%D8%B2%DB%8C%D9%86%D9%87%E2%80%8C%D9%87%D8%A7%DB%8C_%D9%86%D8%B8%D8%A7%D9%85%DB%8C\" hreflang=\"fa\" lang=\"fa\" title=\"فهرست کشورها بر پایه هزینه‌های نظامی – Persian\">فارسی</a>,\n",
       " <a class=\"interlanguage-link-target\" href=\"https://fr.wikipedia.org/wiki/Liste_des_pays_par_d%C3%A9penses_militaires\" hreflang=\"fr\" lang=\"fr\" title=\"Liste des pays par dépenses militaires – French\">Français</a>,\n",
       " <a class=\"interlanguage-link-target\" href=\"https://ko.wikipedia.org/wiki/%EA%B5%B0%EC%82%AC%EB%B9%84_%EC%A7%80%EC%B6%9C%EC%97%90_%EB%94%B0%EB%A5%B8_%EB%82%98%EB%9D%BC_%EB%AA%A9%EB%A1%9D\" hreflang=\"ko\" lang=\"ko\" title=\"군사비 지출에 따른 나라 목록 – Korean\">한국어</a>,\n",
       " <a class=\"interlanguage-link-target\" href=\"https://hy.wikipedia.org/wiki/%D4%B5%D6%80%D5%AF%D6%80%D5%B6%D5%A5%D6%80%D5%AB_%D6%81%D5%A1%D5%B6%D5%AF%D5%B6_%D5%A8%D5%BD%D5%BF_%D5%BC%D5%A1%D5%A6%D5%B4%D5%A1%D5%AF%D5%A1%D5%B6_%D5%AE%D5%A1%D5%AD%D5%BD%D5%A5%D6%80%D5%AB\" hreflang=\"hy\" lang=\"hy\" title=\"Երկրների ցանկն ըստ ռազմական ծախսերի – Armenian\">Հայերեն</a>,\n",
       " <a class=\"interlanguage-link-target\" href=\"https://hi.wikipedia.org/wiki/%E0%A4%B8%E0%A5%88%E0%A4%A8%E0%A5%8D%E0%A4%AF_%E0%A4%B5%E0%A5%8D%E0%A4%AF%E0%A4%AF_%E0%A4%95%E0%A5%87_%E0%A4%85%E0%A4%A8%E0%A5%81%E0%A4%B8%E0%A4%BE%E0%A4%B0_%E0%A4%A6%E0%A5%87%E0%A4%B6%E0%A5%8B%E0%A4%82_%E0%A4%95%E0%A5%80_%E0%A4%B8%E0%A5%82%E0%A4%9A%E0%A5%80\" hreflang=\"hi\" lang=\"hi\" title=\"सैन्य व्यय के अनुसार देशों की सूची – Hindi\">हिन्दी</a>,\n",
       " <a class=\"interlanguage-link-target\" href=\"https://id.wikipedia.org/wiki/Daftar_negara_menurut_pengeluaran_militer\" hreflang=\"id\" lang=\"id\" title=\"Daftar negara menurut pengeluaran militer – Indonesian\">Bahasa Indonesia</a>,\n",
       " <a class=\"interlanguage-link-target\" href=\"https://it.wikipedia.org/wiki/Stati_per_spesa_militare\" hreflang=\"it\" lang=\"it\" title=\"Stati per spesa militare – Italian\">Italiano</a>,\n",
       " <a class=\"interlanguage-link-target\" href=\"https://ms.wikipedia.org/wiki/Senarai_negara_mengikut_perbelanjaan_ketenteraan\" hreflang=\"ms\" lang=\"ms\" title=\"Senarai negara mengikut perbelanjaan ketenteraan – Malay\">Bahasa Melayu</a>,\n",
       " <a class=\"interlanguage-link-target\" href=\"https://mn.wikipedia.org/wiki/%D0%94%D1%8D%D0%BB%D1%85%D0%B8%D0%B9%D0%BD_%D1%83%D0%BB%D1%81%D1%83%D1%83%D0%B4%D1%8B%D0%BD_%D1%86%D1%8D%D1%80%D0%B3%D0%B8%D0%B9%D0%BD_%D0%B7%D0%B0%D1%80%D0%B4%D0%BB%D1%8B%D0%BD_%D0%B6%D0%B0%D0%B3%D1%81%D0%B0%D0%B0%D0%BB%D1%82\" hreflang=\"mn\" lang=\"mn\" title=\"Дэлхийн улсуудын цэргийн зардлын жагсаалт – Mongolian\">Монгол</a>,\n",
       " <a class=\"interlanguage-link-target\" href=\"https://nl.wikipedia.org/wiki/Lijst_van_landen_naar_militaire_uitgaven\" hreflang=\"nl\" lang=\"nl\" title=\"Lijst van landen naar militaire uitgaven – Dutch\">Nederlands</a>,\n",
       " <a class=\"interlanguage-link-target\" href=\"https://pnb.wikipedia.org/wiki/%D9%81%D9%88%D8%AC%DB%8C_%D8%A7%D8%AE%D8%B1%D8%A7%D8%AC%D8%A7%D8%AA_%D9%BE%D8%AF%DA%BE%D8%B1_%D8%A7%D8%AA%DB%92_%D8%AF%DB%8C%D8%B3%D8%A7%DA%BA_%D8%AF%DB%8C_%D9%84%D8%B3%D9%B9\" hreflang=\"pnb\" lang=\"pnb\" title=\"فوجی اخراجات پدھر اتے دیساں دی لسٹ – Western Punjabi\">پنجابی</a>,\n",
       " <a class=\"interlanguage-link-target\" href=\"https://pl.wikipedia.org/wiki/Lista_pa%C5%84stw_%C5%9Bwiata_wed%C5%82ug_wydatk%C3%B3w_na_wojskowo%C5%9B%C4%87\" hreflang=\"pl\" lang=\"pl\" title=\"Lista państw świata według wydatków na wojskowość – Polish\">Polski</a>,\n",
       " <a class=\"interlanguage-link-target\" href=\"https://pt.wikipedia.org/wiki/Lista_de_pa%C3%ADses_por_gastos_militares\" hreflang=\"pt\" lang=\"pt\" title=\"Lista de países por gastos militares – Portuguese\">Português</a>,\n",
       " <a class=\"interlanguage-link-target\" href=\"https://ro.wikipedia.org/wiki/Lista_%C8%9B%C4%83rilor_dup%C4%83_cheltuielile_militare\" hreflang=\"ro\" lang=\"ro\" title=\"Lista țărilor după cheltuielile militare – Romanian\">Română</a>,\n",
       " <a class=\"interlanguage-link-target\" href=\"https://ru.wikipedia.org/wiki/%D0%A1%D0%BF%D0%B8%D1%81%D0%BE%D0%BA_%D1%81%D1%82%D1%80%D0%B0%D0%BD_%D0%BF%D0%BE_%D0%B2%D0%BE%D0%B5%D0%BD%D0%BD%D1%8B%D0%BC_%D1%80%D0%B0%D1%81%D1%85%D0%BE%D0%B4%D0%B0%D0%BC\" hreflang=\"ru\" lang=\"ru\" title=\"Список стран по военным расходам – Russian\">Русский</a>,\n",
       " <a class=\"interlanguage-link-target\" href=\"https://fi.wikipedia.org/wiki/Luettelo_valtioiden_sotilaallisista_menoista\" hreflang=\"fi\" lang=\"fi\" title=\"Luettelo valtioiden sotilaallisista menoista – Finnish\">Suomi</a>,\n",
       " <a class=\"interlanguage-link-target\" href=\"https://ta.wikipedia.org/wiki/%E0%AE%87%E0%AE%B0%E0%AE%BE%E0%AE%A3%E0%AF%81%E0%AE%B5_%E0%AE%9A%E0%AF%86%E0%AE%B2%E0%AE%B5%E0%AE%BF%E0%AE%A9%E0%AF%8D_%E0%AE%85%E0%AE%9F%E0%AE%BF%E0%AE%AA%E0%AF%8D%E0%AE%AA%E0%AE%9F%E0%AF%88%E0%AE%AF%E0%AE%BF%E0%AE%B2%E0%AF%8D_%E0%AE%A8%E0%AE%BE%E0%AE%9F%E0%AF%81%E0%AE%95%E0%AE%B3%E0%AE%BF%E0%AE%A9%E0%AF%8D_%E0%AE%AA%E0%AE%9F%E0%AF%8D%E0%AE%9F%E0%AE%BF%E0%AE%AF%E0%AE%B2%E0%AF%8D\" hreflang=\"ta\" lang=\"ta\" title=\"இராணுவ செலவின் அடிப்படையில் நாடுகளின் பட்டியல் – Tamil\">தமிழ்</a>,\n",
       " <a class=\"interlanguage-link-target\" href=\"https://te.wikipedia.org/wiki/%E0%B0%A6%E0%B1%87%E0%B0%B6%E0%B0%BE%E0%B0%B2_%E0%B0%9C%E0%B0%BE%E0%B0%AC%E0%B0%BF%E0%B0%A4%E0%B0%BE_%E2%80%93_%E0%B0%AE%E0%B0%BF%E0%B0%B2%E0%B0%BF%E0%B0%9F%E0%B0%B0%E0%B1%80_%E0%B0%B5%E0%B1%8D%E0%B0%AF%E0%B0%AF%E0%B0%82\" hreflang=\"te\" lang=\"te\" title=\"దేశాల జాబితా – మిలిటరీ వ్యయం – Telugu\">తెలుగు</a>,\n",
       " <a class=\"interlanguage-link-target\" href=\"https://tr.wikipedia.org/wiki/Savunma_harcamalar%C4%B1na_g%C3%B6re_%C3%BClkeler_listesi\" hreflang=\"tr\" lang=\"tr\" title=\"Savunma harcamalarına göre ülkeler listesi – Turkish\">Türkçe</a>,\n",
       " <a class=\"interlanguage-link-target\" href=\"https://uk.wikipedia.org/wiki/%D0%A1%D0%BF%D0%B8%D1%81%D0%BE%D0%BA_%D0%BA%D1%80%D0%B0%D1%97%D0%BD_%D0%B7%D0%B0_%D0%B2%D1%96%D0%B9%D1%81%D1%8C%D0%BA%D0%BE%D0%B2%D0%B8%D0%BC%D0%B8_%D0%B2%D0%B8%D1%82%D1%80%D0%B0%D1%82%D0%B0%D0%BC%D0%B8\" hreflang=\"uk\" lang=\"uk\" title=\"Список країн за військовими витратами – Ukrainian\">Українська</a>,\n",
       " <a class=\"interlanguage-link-target\" href=\"https://ur.wikipedia.org/wiki/%D9%81%DB%81%D8%B1%D8%B3%D8%AA_%D9%85%D9%85%D8%A7%D9%84%DA%A9_%D8%A8%D9%84%D8%AD%D8%A7%D8%B8_%D8%B9%D8%B3%DA%A9%D8%B1%DB%8C_%D8%A7%D8%AE%D8%B1%D8%A7%D8%AC%D8%A7%D8%AA\" hreflang=\"ur\" lang=\"ur\" title=\"فہرست ممالک بلحاظ عسکری اخراجات – Urdu\">اردو</a>,\n",
       " <a class=\"interlanguage-link-target\" href=\"https://vi.wikipedia.org/wiki/Ng%C3%A2n_s%C3%A1ch_qu%E1%BB%91c_ph%C3%B2ng_c%C3%A1c_n%C6%B0%E1%BB%9Bc\" hreflang=\"vi\" lang=\"vi\" title=\"Ngân sách quốc phòng các nước – Vietnamese\">Tiếng Việt</a>,\n",
       " <a class=\"interlanguage-link-target\" href=\"https://zh.wikipedia.org/wiki/%E5%90%84%E5%9B%BD%E5%9B%BD%E9%98%B2%E9%A2%84%E7%AE%97%E5%88%97%E8%A1%A8\" hreflang=\"zh\" lang=\"zh\" title=\"各国国防预算列表 – Chinese\">中文</a>,\n",
       " <a class=\"wbc-editpage\" href=\"https://www.wikidata.org/wiki/Special:EntityPage/Q874302#sitelinks-wikipedia\" title=\"Edit interlanguage links\">Edit links</a>,\n",
       " <a href=\"//en.wikipedia.org/wiki/Wikipedia:Text_of_Creative_Commons_Attribution-ShareAlike_3.0_Unported_License\" rel=\"license\">Creative Commons Attribution-ShareAlike License</a>,\n",
       " <a href=\"//creativecommons.org/licenses/by-sa/3.0/\" rel=\"license\" style=\"display:none;\"></a>,\n",
       " <a href=\"//wikimediafoundation.org/wiki/Terms_of_Use\">Terms of Use</a>,\n",
       " <a href=\"//wikimediafoundation.org/wiki/Privacy_policy\">Privacy Policy</a>,\n",
       " <a href=\"//www.wikimediafoundation.org/\">Wikimedia Foundation, Inc.</a>,\n",
       " <a class=\"extiw\" href=\"https://foundation.wikimedia.org/wiki/Privacy_policy\" title=\"wmf:Privacy policy\">Privacy policy</a>,\n",
       " <a href=\"/wiki/Wikipedia:About\" title=\"Wikipedia:About\">About Wikipedia</a>,\n",
       " <a href=\"/wiki/Wikipedia:General_disclaimer\" title=\"Wikipedia:General disclaimer\">Disclaimers</a>,\n",
       " <a href=\"//en.wikipedia.org/wiki/Wikipedia:Contact_us\">Contact Wikipedia</a>,\n",
       " <a href=\"https://www.mediawiki.org/wiki/Special:MyLanguage/How_to_contribute\">Developers</a>,\n",
       " <a href=\"https://foundation.wikimedia.org/wiki/Cookie_statement\">Cookie statement</a>,\n",
       " <a class=\"noprint stopMobileRedirectToggle\" href=\"//en.m.wikipedia.org/w/index.php?title=List_of_countries_by_military_expenditures&amp;mobileaction=toggle_view_mobile\">Mobile view</a>,\n",
       " <a href=\"https://foundation.wikimedia.org/\"><img alt=\"Wikimedia Foundation\" height=\"31\" src=\"/static/images/wikimedia-button.png\" srcset=\"/static/images/wikimedia-button-1.5x.png 1.5x, /static/images/wikimedia-button-2x.png 2x\" width=\"88\"/></a>,\n",
       " <a href=\"//www.mediawiki.org/\"><img alt=\"Powered by MediaWiki\" height=\"31\" src=\"/static/images/poweredby_mediawiki_88x31.png\" srcset=\"/static/images/poweredby_mediawiki_132x47.png 1.5x, /static/images/poweredby_mediawiki_176x62.png 2x\" width=\"88\"/></a>]"
      ]
     },
     "execution_count": 10,
     "metadata": {},
     "output_type": "execute_result"
    }
   ],
   "source": [
    "soup.find_all(\"a\")"
   ]
  },
  {
   "cell_type": "code",
   "execution_count": 141,
   "metadata": {},
   "outputs": [],
   "source": [
    "all_tables=soup.find_all('table')"
   ]
  },
  {
   "cell_type": "code",
   "execution_count": 142,
   "metadata": {},
   "outputs": [],
   "source": [
    "right_table=soup.find('table', class_='wikitable sortable')\n"
   ]
  },
  {
   "cell_type": "code",
   "execution_count": 140,
   "metadata": {},
   "outputs": [],
   "source": [
    "A=[]\n",
    "B=[]\n",
    "C=[]\n",
    "D=[]\n",
    "E=[]\n",
    "for row in right_table.findAll(\"tr\"):\n",
    "    \n",
    "    cells = row.findAll('td')\n",
    "    \n",
    "    #states=row.findAll('th') #To store second column data\n",
    "    if (len(cells)==5) and (len(cells[0])==1):\n",
    "        #Only extract table body not heading\n",
    "        A.append(cells[0].find(text=True))\n",
    "        cells_2  = cells[1].findAll(\"a\")\n",
    "        if len(cells_2)>1 :\n",
    "            B.append(cells_2[1].find(text=True))\n",
    "        C.append(cells[2].find(text=True))\n",
    "        D.append(cells[3].find(text=True))\n",
    "        E.append(cells[4].find(text=True))\n",
    "\n"
   ]
  },
  {
   "cell_type": "code",
   "execution_count": null,
   "metadata": {},
   "outputs": [],
   "source": []
  }
 ],
 "metadata": {
  "kernelspec": {
   "display_name": "Python [conda env:Anaconda3]",
   "language": "python",
   "name": "conda-env-Anaconda3-py"
  },
  "language_info": {
   "codemirror_mode": {
    "name": "ipython",
    "version": 3
   },
   "file_extension": ".py",
   "mimetype": "text/x-python",
   "name": "python",
   "nbconvert_exporter": "python",
   "pygments_lexer": "ipython3",
   "version": "3.5.3"
  }
 },
 "nbformat": 4,
 "nbformat_minor": 2
}
