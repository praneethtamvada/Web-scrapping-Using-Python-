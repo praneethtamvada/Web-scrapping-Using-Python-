{
 "cells": [
  {
   "cell_type": "code",
   "execution_count": 9,
   "metadata": {},
   "outputs": [],
   "source": [
    "import urllib.request as urllib2\n",
    "from bs4 import BeautifulSoup"
   ]
  },
  {
   "cell_type": "code",
   "execution_count": 10,
   "metadata": {},
   "outputs": [],
   "source": [
    "wiki = \"https://en.wikipedia.org/wiki/List_of_cities_in_India_by_area\""
   ]
  },
  {
   "cell_type": "code",
   "execution_count": 11,
   "metadata": {},
   "outputs": [],
   "source": [
    "page = urllib2.urlopen(wiki)"
   ]
  },
  {
   "cell_type": "code",
   "execution_count": 12,
   "metadata": {},
   "outputs": [
    {
     "name": "stderr",
     "output_type": "stream",
     "text": [
      "C:\\Users\\Praneeth Tamvada\\Anaconda3\\lib\\site-packages\\bs4\\__init__.py:181: UserWarning: No parser was explicitly specified, so I'm using the best available HTML parser for this system (\"lxml\"). This usually isn't a problem, but if you run this code on another system, or in a different virtual environment, it may use a different parser and behave differently.\n",
      "\n",
      "The code that caused this warning is on line 193 of the file C:\\Users\\Praneeth Tamvada\\Anaconda3\\lib\\runpy.py. To get rid of this warning, change code that looks like this:\n",
      "\n",
      " BeautifulSoup(YOUR_MARKUP})\n",
      "\n",
      "to this:\n",
      "\n",
      " BeautifulSoup(YOUR_MARKUP, \"lxml\")\n",
      "\n",
      "  markup_type=markup_type))\n"
     ]
    }
   ],
   "source": [
    "soup = BeautifulSoup(page)"
   ]
  },
  {
   "cell_type": "code",
   "execution_count": 13,
   "metadata": {},
   "outputs": [
    {
     "data": {
      "text/plain": [
       "<table class=\"wikitable sortable\">\n",
       "<caption>\n",
       "</caption>\n",
       "<tbody><tr>\n",
       "<th>City</th>\n",
       "<th>State / <abbr title=\"Union Territory\">UT</abbr></th>\n",
       "<th>Area (km<sup>2</sup>)</th>\n",
       "<th><abbr title=\"Reference\">Ref</abbr>\n",
       "</th></tr>\n",
       "<tr>\n",
       "<td><a href=\"/wiki/Delhi\" title=\"Delhi\">Delhi</a></td>\n",
       "<td><a href=\"/wiki/Delhi\" title=\"Delhi\">Delhi</a></td>\n",
       "<td>1,484</td>\n",
       "<td>\n",
       "</td></tr>\n",
       "<tr>\n",
       "<td><a href=\"/wiki/Bangalore\" title=\"Bangalore\">Bangalore</a></td>\n",
       "<td><a href=\"/wiki/Karnataka\" title=\"Karnataka\">Karnataka</a></td>\n",
       "<td>709</td>\n",
       "<td>\n",
       "</td></tr>\n",
       "<tr>\n",
       "<td><a href=\"/wiki/Hyderabad\" title=\"Hyderabad\">Hyderabad</a></td>\n",
       "<td><a href=\"/wiki/Telangana\" title=\"Telangana\">Telangana</a></td>\n",
       "<td>650</td>\n",
       "<td>\n",
       "</td></tr>\n",
       "<tr>\n",
       "<td><a href=\"/wiki/Mumbai\" title=\"Mumbai\">Mumbai</a></td>\n",
       "<td><a href=\"/wiki/Maharashtra\" title=\"Maharashtra\">Maharashtra</a></td>\n",
       "<td>603.4</td>\n",
       "<td>\n",
       "</td></tr>\n",
       "<tr>\n",
       "<td><a href=\"/wiki/Jaipur\" title=\"Jaipur\">Jaipur</a></td>\n",
       "<td><a href=\"/wiki/Rajasthan\" title=\"Rajasthan\">Rajasthan</a></td>\n",
       "<td>484</td>\n",
       "<td>\n",
       "</td></tr>\n",
       "<tr>\n",
       "<td><a class=\"mw-redirect\" href=\"/wiki/Ahemdabad\" title=\"Ahemdabad\">Ahemdabad</a></td>\n",
       "<td><a href=\"/wiki/Gujarat\" title=\"Gujarat\">Gujrat</a></td>\n",
       "<td>464</td>\n",
       "<td>\n",
       "</td></tr>\n",
       "<tr>\n",
       "<td><a href=\"/wiki/Chennai\" title=\"Chennai\">Chennai</a></td>\n",
       "<td><a href=\"/wiki/Tamil_Nadu\" title=\"Tamil Nadu\">Tamil Nadu</a></td>\n",
       "<td>426</td>\n",
       "<td>\n",
       "</td></tr>\n",
       "<tr>\n",
       "<td><a href=\"/wiki/Kanpur\" title=\"Kanpur\">Kanpur</a></td>\n",
       "<td><a href=\"/wiki/Uttar_Pradesh\" title=\"Uttar Pradesh\">Uttar Pradesh</a></td>\n",
       "<td>403.7</td>\n",
       "<td>\n",
       "</td></tr>\n",
       "<tr>\n",
       "<td><a href=\"/wiki/Lucknow\" title=\"Lucknow\">Lucknow</a></td>\n",
       "<td><a href=\"/wiki/Uttar_Pradesh\" title=\"Uttar Pradesh\">Uttar Pradesh</a></td>\n",
       "<td>349</td>\n",
       "<td>\n",
       "</td></tr>\n",
       "<tr>\n",
       "<td><a href=\"/wiki/Pune\" title=\"Pune\">Pune</a></td>\n",
       "<td><a href=\"/wiki/Maharashtra\" title=\"Maharashtra\">Maharashtra</a></td>\n",
       "<td>331.26</td>\n",
       "<td><sup class=\"reference\" id=\"cite_ref-2\"><a href=\"#cite_note-2\">[2]</a></sup><sup class=\"reference\" id=\"cite_ref-3\"><a href=\"#cite_note-3\">[3]</a></sup>\n",
       "</td></tr>\n",
       "<tr>\n",
       "<td><a href=\"/wiki/Surat\" title=\"Surat\">Surat</a></td>\n",
       "<td><a href=\"/wiki/Gujarat\" title=\"Gujarat\">Gujrat</a></td>\n",
       "<td>326.5</td>\n",
       "<td>\n",
       "</td></tr>\n",
       "<tr>\n",
       "<td><a href=\"/wiki/Kolkata\" title=\"Kolkata\">Kolkata</a></td>\n",
       "<td><a href=\"/wiki/West_Bengal\" title=\"West Bengal\">West Bengal</a></td>\n",
       "<td>\n",
       "<p>205 \n",
       "</p>\n",
       "</td>\n",
       "<td>\n",
       "</td></tr></tbody></table>"
      ]
     },
     "execution_count": 13,
     "metadata": {},
     "output_type": "execute_result"
    }
   ],
   "source": [
    "right_table=soup.find('table', class_='wikitable sortable')\n",
    "right_table"
   ]
  },
  {
   "cell_type": "code",
   "execution_count": 14,
   "metadata": {},
   "outputs": [],
   "source": [
    "A=[]\n",
    "B=[]\n",
    "C=[]\n",
    "\n",
    "for row in right_table.findAll(\"tr\"):\n",
    "    cells = row.findAll('td')\n",
    "    #states=row.findAll('th') #To store second column data\n",
    "    if len(cells)==4: #Only extract table body not heading\n",
    "        A.append(cells[0].find(text=True))\n",
    "        B.append(cells[1].find(text=True))\n",
    "        C.append(cells[2].find(text=True))\n",
    "     "
   ]
  },
  {
   "cell_type": "code",
   "execution_count": 19,
   "metadata": {},
   "outputs": [
    {
     "data": {
      "text/plain": [
       "['1,484',\n",
       " '709',\n",
       " '650',\n",
       " '603.4',\n",
       " '484',\n",
       " '464',\n",
       " '426',\n",
       " '403.7',\n",
       " '349',\n",
       " '331.26',\n",
       " '326.5',\n",
       " '\\n']"
      ]
     },
     "execution_count": 19,
     "metadata": {},
     "output_type": "execute_result"
    }
   ],
   "source": [
    "C"
   ]
  },
  {
   "cell_type": "code",
   "execution_count": 18,
   "metadata": {},
   "outputs": [
    {
     "data": {
      "text/html": [
       "<div>\n",
       "<style scoped>\n",
       "    .dataframe tbody tr th:only-of-type {\n",
       "        vertical-align: middle;\n",
       "    }\n",
       "\n",
       "    .dataframe tbody tr th {\n",
       "        vertical-align: top;\n",
       "    }\n",
       "\n",
       "    .dataframe thead th {\n",
       "        text-align: right;\n",
       "    }\n",
       "</style>\n",
       "<table border=\"1\" class=\"dataframe\">\n",
       "  <thead>\n",
       "    <tr style=\"text-align: right;\">\n",
       "      <th></th>\n",
       "      <th>City</th>\n",
       "      <th>State</th>\n",
       "      <th>Area</th>\n",
       "    </tr>\n",
       "  </thead>\n",
       "  <tbody>\n",
       "    <tr>\n",
       "      <th>0</th>\n",
       "      <td>Delhi</td>\n",
       "      <td>Delhi</td>\n",
       "      <td>1,484</td>\n",
       "    </tr>\n",
       "    <tr>\n",
       "      <th>1</th>\n",
       "      <td>Bangalore</td>\n",
       "      <td>Karnataka</td>\n",
       "      <td>709</td>\n",
       "    </tr>\n",
       "    <tr>\n",
       "      <th>2</th>\n",
       "      <td>Hyderabad</td>\n",
       "      <td>Telangana</td>\n",
       "      <td>650</td>\n",
       "    </tr>\n",
       "    <tr>\n",
       "      <th>3</th>\n",
       "      <td>Mumbai</td>\n",
       "      <td>Maharashtra</td>\n",
       "      <td>603.4</td>\n",
       "    </tr>\n",
       "    <tr>\n",
       "      <th>4</th>\n",
       "      <td>Jaipur</td>\n",
       "      <td>Rajasthan</td>\n",
       "      <td>484</td>\n",
       "    </tr>\n",
       "    <tr>\n",
       "      <th>5</th>\n",
       "      <td>Ahemdabad</td>\n",
       "      <td>Gujrat</td>\n",
       "      <td>464</td>\n",
       "    </tr>\n",
       "    <tr>\n",
       "      <th>6</th>\n",
       "      <td>Chennai</td>\n",
       "      <td>Tamil Nadu</td>\n",
       "      <td>426</td>\n",
       "    </tr>\n",
       "    <tr>\n",
       "      <th>7</th>\n",
       "      <td>Kanpur</td>\n",
       "      <td>Uttar Pradesh</td>\n",
       "      <td>403.7</td>\n",
       "    </tr>\n",
       "    <tr>\n",
       "      <th>8</th>\n",
       "      <td>Lucknow</td>\n",
       "      <td>Uttar Pradesh</td>\n",
       "      <td>349</td>\n",
       "    </tr>\n",
       "    <tr>\n",
       "      <th>9</th>\n",
       "      <td>Pune</td>\n",
       "      <td>Maharashtra</td>\n",
       "      <td>331.26</td>\n",
       "    </tr>\n",
       "    <tr>\n",
       "      <th>10</th>\n",
       "      <td>Surat</td>\n",
       "      <td>Gujrat</td>\n",
       "      <td>326.5</td>\n",
       "    </tr>\n",
       "    <tr>\n",
       "      <th>11</th>\n",
       "      <td>Kolkata</td>\n",
       "      <td>West Bengal</td>\n",
       "      <td></td>\n",
       "    </tr>\n",
       "  </tbody>\n",
       "</table>\n",
       "</div>"
      ],
      "text/plain": [
       "         City          State    Area\n",
       "0       Delhi          Delhi   1,484\n",
       "1   Bangalore      Karnataka     709\n",
       "2   Hyderabad      Telangana     650\n",
       "3      Mumbai    Maharashtra   603.4\n",
       "4      Jaipur      Rajasthan     484\n",
       "5   Ahemdabad         Gujrat     464\n",
       "6     Chennai     Tamil Nadu     426\n",
       "7      Kanpur  Uttar Pradesh   403.7\n",
       "8     Lucknow  Uttar Pradesh     349\n",
       "9        Pune    Maharashtra  331.26\n",
       "10      Surat         Gujrat   326.5\n",
       "11    Kolkata    West Bengal       "
      ]
     },
     "execution_count": 18,
     "metadata": {},
     "output_type": "execute_result"
    }
   ],
   "source": [
    "import pandas as pd\n",
    "cities_in_India =pd.DataFrame(A,columns=['City'])\n",
    "cities_in_India['State']=B\n",
    "cities_in_India['Area']=C\n",
    "cities_in_India"
   ]
  },
  {
   "cell_type": "code",
   "execution_count": null,
   "metadata": {},
   "outputs": [],
   "source": []
  }
 ],
 "metadata": {
  "kernelspec": {
   "display_name": "Python [conda env:Anaconda3]",
   "language": "python",
   "name": "conda-env-Anaconda3-py"
  },
  "language_info": {
   "codemirror_mode": {
    "name": "ipython",
    "version": 3
   },
   "file_extension": ".py",
   "mimetype": "text/x-python",
   "name": "python",
   "nbconvert_exporter": "python",
   "pygments_lexer": "ipython3",
   "version": "3.5.3"
  }
 },
 "nbformat": 4,
 "nbformat_minor": 2
}
